{
  "nbformat": 4,
  "nbformat_minor": 0,
  "metadata": {
    "colab": {
      "name": "PYTH2_advanced_topics.ipynb",
      "version": "0.3.2",
      "provenance": [],
      "collapsed_sections": [
        "LWWG4FlK5XVS",
        "PWtWGCxU6ZGF",
        "gf7U52V155a5",
        "GlnKfnD77nU0"
      ],
      "include_colab_link": true
    },
    "kernelspec": {
      "name": "python3",
      "display_name": "Python 3"
    }
  },
  "cells": [
    {
      "cell_type": "markdown",
      "metadata": {
        "id": "view-in-github",
        "colab_type": "text"
      },
      "source": [
        "<a href=\"https://colab.research.google.com/github/deez79/PYTH_Homework_Submissions/blob/master/PYTH2_advanced_topics.ipynb\" target=\"_parent\"><img src=\"https://colab.research.google.com/assets/colab-badge.svg\" alt=\"Open In Colab\"/></a>"
      ]
    },
    {
      "cell_type": "markdown",
      "metadata": {
        "id": "wltTVtGy46Or",
        "colab_type": "text"
      },
      "source": [
        "# Problem Sets Dealing with:\n",
        "* Class 02 in class assignment upgrade\n",
        "* Lists\n",
        "* Dicts\n",
        "* Pandas"
      ]
    },
    {
      "cell_type": "markdown",
      "metadata": {
        "id": "ogUhMIk5TgmD",
        "colab_type": "text"
      },
      "source": [
        "## Class 02 in class assignment upgrade:\n"
      ]
    },
    {
      "cell_type": "code",
      "metadata": {
        "id": "1SVLLEBMtLb6",
        "colab_type": "code",
        "outputId": "4be1c3e6-d7ba-4deb-bc18-4a2661bd9b38",
        "colab": {
          "base_uri": "https://localhost:8080/",
          "height": 90
        }
      },
      "source": [
        "import random\n",
        "\n",
        "print(\"How about a nice game of Rock Paper Scissors?\")\n",
        "p1 = None\n",
        "while p1 == None:\n",
        "    p1 = input(\"Choose r,p, or s (lowercase only): \")\n",
        "    if p1 == \"r\" or p1 ==\"p\" or p1 == \"s\":\n",
        "        print(\"let's see...\")\n",
        "    else:\n",
        "        print(\"invalid option\")\n",
        "        p1 = None\n",
        "    \n",
        "list = [\"r\", \"p\", \"s\"]\n",
        "\n",
        "p2 = random.choice(list)\n",
        "w = None\n",
        "\n",
        "if p1 == p2:\n",
        "    w = \"No One\"\n",
        "elif p1 == \"r\" and p2 == \"p\":\n",
        "    w = \"p2\"\n",
        "elif p1 == \"r\" and p2 == \"s\":\n",
        "    w = \"p1\"\n",
        "elif p1 == \"p\" and p2 == \"r\":\n",
        "    w = \"p1\"\n",
        "elif p1 == \"p\" and p2 == \"s\":\n",
        "    w = \"p2\"\n",
        "elif p1 == \"s\" and p2 == \"r\":\n",
        "    w = \"p2\"\n",
        "elif p1 == \"s\" and p2 == \"p\":\n",
        "    w = \"p1\"\n",
        "  \n",
        "print(f\"The winner is {w}!\")"
      ],
      "execution_count": 0,
      "outputs": [
        {
          "output_type": "stream",
          "text": [
            "How about a nice game of Rock Paper Scissors?\n",
            "Choose r,p, or s (lowercase only): r\n",
            "let's see...\n",
            "The winner is No One!\n"
          ],
          "name": "stdout"
        }
      ]
    },
    {
      "cell_type": "markdown",
      "metadata": {
        "id": "LWWG4FlK5XVS",
        "colab_type": "text"
      },
      "source": [
        "## List Problem Sets"
      ]
    },
    {
      "cell_type": "code",
      "metadata": {
        "colab_type": "code",
        "outputId": "12233571-8eb7-4bbe-aa6d-963df7e2aff5",
        "id": "qBSiy6R98Kqb",
        "colab": {
          "base_uri": "https://localhost:8080/",
          "height": 35
        }
      },
      "source": [
        "\"\"\"\n",
        "CHALLENGE - Extensions\n",
        "\"\"\"\n",
        "\n",
        "# ** Challenge** Add each element of the tuple1 to list1 *individually* and print the result.\n",
        "\n",
        "list1 = [6, 12, 9, 4, 10, 1]\n",
        "tuple1 = [(15,3), (6,2), (1, 8)]\n",
        "\n",
        "list2 = list1\n",
        "list2.append(tuple1[0])\n",
        "list2.append(tuple1[1])\n",
        "list2.append(tuple1[2])\n",
        "\n",
        "print(list2)\n",
        "\n",
        "# list3 = list1\n",
        "# list3.append(tuple1)\n",
        "# print(list3)"
      ],
      "execution_count": 0,
      "outputs": [
        {
          "output_type": "stream",
          "text": [
            "[6, 12, 9, 4, 10, 1, (15, 3), (6, 2), (1, 8)]\n"
          ],
          "name": "stdout"
        }
      ]
    },
    {
      "cell_type": "code",
      "metadata": {
        "id": "dzywTjlf5jsD",
        "colab_type": "code",
        "outputId": "f5ba7749-d3c8-4a62-aadc-adee30135267",
        "colab": {
          "base_uri": "https://localhost:8080/",
          "height": 90
        }
      },
      "source": [
        "\"\"\"\n",
        "CHALLENGE - Core Statistics Calculations\n",
        "\"\"\"\n",
        "import statistics \n",
        "\n",
        "# Given the sample below, find the mean, median, mode, variance, and standard deviation of this sample. \n",
        "# Print them out separately, but in the same format as before.\n",
        "\t# my_median = \n",
        "\t# my_mode = \n",
        "\t# my_variance = \n",
        "\t# my_sd = \n",
        "\n",
        "sample = [6, 19, 20, 12, 6, 24, 8, 30, 28, 25]\n",
        "\n",
        "print(f'my_median = {statistics.median(sample)}')\n",
        "print(f'my_mode = {statistics.mode(sample)}')\n",
        "print(f'my_variance = {statistics.variance(sample)}')\n",
        "print(f'my_sd = {statistics.stdev(sample)}')\n",
        "\n",
        "# Once you finish, print out each value **on its own line** in this format: \"median = \" etc.\n",
        "\n",
        "# my_median = statistics.median(sample) \n",
        "# my_mode = statistics.mode(sample)\n",
        "# my_variance = statistics.variance(sample)\n",
        "# my_sd = statistics.stdev(sample)"
      ],
      "execution_count": 0,
      "outputs": [
        {
          "output_type": "stream",
          "text": [
            "my_median = 19.5\n",
            "my_mode = 6\n",
            "my_variance = 84.17777777777778\n",
            "my_sd = 9.174844836714012\n"
          ],
          "name": "stdout"
        }
      ]
    },
    {
      "cell_type": "markdown",
      "metadata": {
        "id": "B2t3GdEP5wjy",
        "colab_type": "text"
      },
      "source": [
        "## Dicts Problem Sets"
      ]
    },
    {
      "cell_type": "markdown",
      "metadata": {
        "id": "PWtWGCxU6ZGF",
        "colab_type": "text"
      },
      "source": [
        "### Dict Basics"
      ]
    },
    {
      "cell_type": "code",
      "metadata": {
        "id": "ZBXL9OOH6cqb",
        "colab_type": "code",
        "outputId": "dbb8de39-6c7c-4602-c9e9-e73ea677d7ed",
        "colab": {
          "base_uri": "https://localhost:8080/",
          "height": 199
        }
      },
      "source": [
        "\"\"\"\n",
        "Intro to Dict Concepts\n",
        "\"\"\"\n",
        "\n",
        "# A) Declare an empty dict as d1.\n",
        "\n",
        "d1 = {}\n",
        "\n",
        "\n",
        "# B) Create a dict called d2 containing the first and last names below:\n",
        "# Anthony Paollelo, Ping Qiao, Enrique Alvarez, Arjun Dhir \n",
        "\n",
        "d2 = {\n",
        "    'Paollelo': 'Anthony' , \n",
        "    'Qiao': 'Ping', \n",
        "    'Alvarez': 'Enrique', \n",
        "    'Dhir': 'Arjun'\n",
        "    }\n",
        "\n",
        "\n",
        "# C) Add Allison Zhang person to d2.\n",
        "\n",
        "d2.update({'Zhang': 'Allison'})\n",
        "print(d2)\n",
        "\n",
        "\n",
        "# D) How many people are now in d2? Print out all their *first* names in the vars below.\n",
        "\n",
        "### num_people = \n",
        "num_people = len(d2)\n",
        "print(num_people)\n",
        "\n",
        "### first_names = \n",
        "for names in d2:\n",
        "  print(d2[names])\n",
        "\n",
        "first_names = d2.values()\n",
        "print(list(first_names))\n",
        "\n",
        "# E) Delete a random person from d2 and print his/her name in the var below.\n",
        "\n",
        "### x = \n",
        "\n",
        "x = d2.popitem()\n",
        "# print(x)\n",
        "# print(type(x))\n",
        "\n",
        "# F) Re-add the name you deleted to the end of d2.\n",
        "\n",
        "last_name = x[0]\n",
        "first_name = x[1]\n",
        "full_name = {last_name: first_name}\n",
        "# print(full_name)\n",
        "# print(type(full_name))\n",
        "d2.update(full_name)\n",
        "# print(d2)"
      ],
      "execution_count": 0,
      "outputs": [
        {
          "output_type": "stream",
          "text": [
            "{'Paollelo': 'Anthony', 'Qiao': 'Ping', 'Alvarez': 'Enrique', 'Dhir': 'Arjun', 'Zhang': 'Allison'}\n",
            "5\n",
            "Anthony\n",
            "Ping\n",
            "Enrique\n",
            "Arjun\n",
            "Allison\n",
            "['Anthony', 'Ping', 'Enrique', 'Arjun', 'Allison']\n",
            "('Zhang', 'Allison')\n",
            "{'Paollelo': 'Anthony', 'Qiao': 'Ping', 'Alvarez': 'Enrique', 'Dhir': 'Arjun', 'Zhang': 'Allison'}\n"
          ],
          "name": "stdout"
        }
      ]
    },
    {
      "cell_type": "code",
      "metadata": {
        "id": "TxmOOdKY6ldt",
        "colab_type": "code",
        "outputId": "3f2cf0e3-0a7b-45ae-dbeb-20d9d60d2c73",
        "colab": {
          "base_uri": "https://localhost:8080/",
          "height": 53
        }
      },
      "source": [
        "\"\"\"\n",
        "Predators & Prey\n",
        "\"\"\"\n",
        "\n",
        "# A) Create a dict called \"pred_prey\", containing:\n",
        "### 3 carnivorous marine animals\n",
        "### For each carnivore, 3 examples of its prey\n",
        "\n",
        "pred_prey = None\n",
        "pred_prey = dict({\n",
        "    'shark': ('people', 'sea lions', 'sharks'),\n",
        "    'crab': ('chicken', 'rotting fish', 'dumb fish'),\n",
        "    'whales': ('krill', 'squids', 'sea lions'),\n",
        "})\n",
        "\n",
        "# B) Print out the 2nd predator and its prey in this format:\n",
        "#### predator2: prey1, prey2, & prey3\n",
        "\n",
        "hunters = list()\n",
        "for killers in pred_prey:\n",
        "  hunters.append(killers)\n",
        "# print(hunters)\n",
        "predator2 = pred_prey.get(hunters[1])\n",
        "# print(predator2)\n",
        "# print(type(predator2))\n",
        "print(f'{hunters[1]}: {predator2[0]}, {predator2[1]}, {predator2[2]}')\n",
        "\n",
        "\n",
        "# C) Print a unique collection of all the prey in a variable called \"prey\".\n",
        "\n",
        "prey = None\n",
        "\n",
        "prey = list(pred_prey.values())\n",
        "# print(type(prey))\n",
        "\n",
        "print(prey)"
      ],
      "execution_count": 0,
      "outputs": [
        {
          "output_type": "stream",
          "text": [
            "crab: chicken, rotting fish, dumb fish\n",
            "[('people', 'sea lions', 'sharks'), ('chicken', 'rotting fish', 'dumb fish'), ('krill', 'squids', 'sea lions')]\n"
          ],
          "name": "stdout"
        }
      ]
    },
    {
      "cell_type": "code",
      "metadata": {
        "id": "s6LnXKcC6sce",
        "colab_type": "code",
        "outputId": "540df57d-8081-4f63-b893-28eeda744d64",
        "colab": {
          "base_uri": "https://localhost:8080/",
          "height": 35
        }
      },
      "source": [
        "\"\"\"\n",
        "Merging Dicts\n",
        "\"\"\"\n",
        "\n",
        "# Merge these two dicts without creating a new one.\n",
        "\n",
        "d1 = {'a': 100, 'b': 200}\n",
        "d2 = {'c': 300, 'd': 400, 'e': 500}\n",
        "\n",
        "d1.update(d2)\n",
        "# print(d1)"
      ],
      "execution_count": 0,
      "outputs": [
        {
          "output_type": "stream",
          "text": [
            "{'a': 100, 'b': 200, 'c': 300, 'd': 400, 'e': 500}\n"
          ],
          "name": "stdout"
        }
      ]
    },
    {
      "cell_type": "code",
      "metadata": {
        "id": "Mufr4sy86zbk",
        "colab_type": "code",
        "colab": {}
      },
      "source": [
        "\"\"\"\n",
        "Lists to Dicts\n",
        "\"\"\"\n",
        "\n",
        "# Turn these two lists into a dict called grades.\n",
        "\n",
        "names = ['Taq', 'Zola', 'Valerie', 'Valerie']\n",
        "scores = [[98, 89, 92, 94], [86, 45, 98, 100], [100, 100, 100, 100], [76, 79, 80, 82]]\n",
        "\n",
        "\n",
        "### grades =\n",
        "grades = dict(zip(names, scores))\n",
        "# print(grades)"
      ],
      "execution_count": 0,
      "outputs": []
    },
    {
      "cell_type": "markdown",
      "metadata": {
        "id": "gf7U52V155a5",
        "colab_type": "text"
      },
      "source": [
        "### Counters Challenge"
      ]
    },
    {
      "cell_type": "code",
      "metadata": {
        "id": "xZ68zMcv6AFK",
        "colab_type": "code",
        "outputId": "26922a74-7e0c-474c-88e9-dfbb6d516d45",
        "colab": {
          "base_uri": "https://localhost:8080/",
          "height": 90
        }
      },
      "source": [
        "\"\"\"\n",
        "Word Frequency\n",
        "\"\"\"\n",
        "\n",
        "# Print out the number of words in this movie quote. \n",
        "# Find and print out the most common word in the quote and how many times it was used.\n",
        "### Hint: You do not need a loop for this. Look up the Counter docs in python3.\n",
        "\n",
        "from collections import Counter\n",
        "\n",
        "princess_bride = [\n",
        "'Hello', 'my', 'name', 'is', 'Inigo', 'Montoya',\n",
        "'You', 'killed', 'my', 'father',\n",
        "'Prepare', 'to', 'die'\n",
        "]\n",
        "\n",
        "# print(Counter(princess_bride))\n",
        "print(sum(Counter(princess_bride).values()))\n",
        "\n",
        "\n",
        "\n",
        "\n",
        "\n",
        "### fave_word = \n",
        "\n",
        "print(Counter(princess_bride).most_common(1))\n",
        "\n",
        "# p.s. You might use this to help analyze the most common topic in comments \n",
        "# or reviews from your users to help understand the best places to improve you product.\n",
        "\n",
        "fave_word = Counter(princess_bride).most_common(1)[0][0]\n",
        "fave_word_count = Counter(princess_bride).most_common(1)[0][1]\n",
        "print(fave_word)\n",
        "print(fave_word_count)\n"
      ],
      "execution_count": 0,
      "outputs": [
        {
          "output_type": "stream",
          "text": [
            "13\n",
            "[('my', 2)]\n",
            "my\n",
            "2\n"
          ],
          "name": "stdout"
        }
      ]
    },
    {
      "cell_type": "code",
      "metadata": {
        "id": "UI8hULay6Ic1",
        "colab_type": "code",
        "outputId": "61b034da-8e7a-49d5-8d33-dc18898452be",
        "colab": {
          "base_uri": "https://localhost:8080/",
          "height": 34
        }
      },
      "source": [
        "\"\"\"\n",
        "Summing Dict Values\n",
        "\"\"\"\n",
        "\n",
        "from collections import Counter\n",
        "\n",
        "# Two Kindergarten teachers poll their classes for what fruit they want to eat for snacktime tomorrow. \n",
        "# Only one of them is going shopping, so she needs to know how many of each fruit she needs to buy in total. \n",
        "# Tally these up and assign them to the \"shopping_list\" dict.\n",
        "\n",
        "poll1 = {'apples': 8, 'bananas': 12}\n",
        "poll2 = {'apples': 6, 'bananas': 6, 'clementines': 8}\n",
        "\n",
        "### shopping_list =\n",
        "\n",
        "shopping_list = dict(Counter(poll1) + Counter(poll2))\n",
        "print(shopping_list)\n"
      ],
      "execution_count": 0,
      "outputs": [
        {
          "output_type": "stream",
          "text": [
            "{'apples': 14, 'bananas': 18, 'clementines': 8}\n"
          ],
          "name": "stdout"
        }
      ]
    },
    {
      "cell_type": "markdown",
      "metadata": {
        "id": "oxiTSbKG7D2V",
        "colab_type": "text"
      },
      "source": [
        "### Dict Mainip Ops"
      ]
    },
    {
      "cell_type": "code",
      "metadata": {
        "id": "eLF039Vq7LIW",
        "colab_type": "code",
        "outputId": "1dbc468a-1174-46ad-bee8-18b762fdaa86",
        "colab": {
          "base_uri": "https://localhost:8080/",
          "height": 104
        }
      },
      "source": [
        "\"\"\"\n",
        "Basic Login\n",
        "\"\"\"\n",
        "\n",
        "# Imagine you work for a movie streaming service. \n",
        "# You're in charge of safeguarding user privacy by ensuring \n",
        "# the login feature remains secure. \n",
        "# For the sake of example only, below is the dict of user login info. \n",
        "# Normally, you wouldn't have access to see this unencrypted of course!\n",
        "\n",
        "users = {\n",
        "\t'person@email.com': 'PassWord',\n",
        "\t'someone@email.com': 'hiitsme',\n",
        "\t'me@email.com': 'myPassword',\n",
        "\t'anyone@email.com': 'IMawesome',\n",
        "\t'guy@email.com': 'pa$$wordz'\n",
        "\t# etc\n",
        "}\n",
        "\n",
        "\n",
        "# A user enters the below login info (email and password) for your app. \n",
        "# Search your database of user logins to see if this account exists \n",
        "# and if the password matches what you have on file. \n",
        "# If the login credentials are correct, print \"Successful login!\". \n",
        "# Otherwise, print \"The login info you entered does not match any of our records.\"\n",
        "\n",
        "current_user = { 'me@email.com': 'myPassword' }\n",
        "\n",
        "if users.get('me@email.com', []):\n",
        "\tprint(\"Successful login!\")\n",
        "else:\n",
        "\tprint(\"The login info you entered does not match any of our records.\")\n",
        " \n",
        "\n",
        "# login = current_user.keys()\n",
        "# print(login)\n",
        "# print(set(login))\n",
        "# print(str(set(login)))\n",
        "\n",
        "\n",
        "# login_str = str(set(login))\n",
        "# print(str(login_str))"
      ],
      "execution_count": 0,
      "outputs": [
        {
          "output_type": "stream",
          "text": [
            "Successful login!\n",
            "dict_keys(['me@email.com'])\n",
            "{'me@email.com'}\n",
            "{'me@email.com'}\n",
            "{'me@email.com'}\n"
          ],
          "name": "stdout"
        }
      ]
    },
    {
      "cell_type": "code",
      "metadata": {
        "id": "1H6lVxNp7VaT",
        "colab_type": "code",
        "colab": {}
      },
      "source": [
        "\"\"\"\n",
        "Math with Girl Scout Cookies\n",
        "\"\"\"\n",
        "\n",
        "# Print out the number of boxes of girl scout cookies that each girl in the troop sold in the below format:\n",
        "\t# Wendy: _____\n",
        "\t# Connie: _____\n",
        "\t# Francesca: _____\n",
        "\n",
        "Wendy = {'tagalongs': 5, 'thin mints': 12, 'samoas': 8}\n",
        "Connie = {'tagalongs': 10, 'thin mints': 4, 'samoas': 12}\n",
        "Francesca = {'tagalongs': 18, 'thin mints': 14, 'samoas': 10}\n",
        "\n",
        "### salesW = \n",
        "### salesC = \n",
        "### salesF = \n",
        "\n",
        "\n",
        "# For each type of girl scout cookie, print out the total number of boxes sold in the below format:\n",
        "\t# tagalongs: _____\n",
        "\t# thin mints: _____\n",
        "\t# samoas: _____\n",
        "\n",
        "### total_tagalongs = \n",
        "### total_thinmints = \n",
        "### total_samoas = \n",
        "\n",
        "\n",
        "# For each type of girl scout cookie, print out the average number of boxes sold in the below format:\n",
        "\t# tagalongs: _____\n",
        "\t# thin mints: _____\n",
        "\t# samoas: _____\n",
        "\n",
        "### avg_tagalongs = \n",
        "### avg_thinmints = \n",
        "### avg_samoas = \n",
        "\n",
        "# Print out total the number of boxes of cookies the girls sold collectively as follows:\n",
        "\t# \"This year we sold ______ boxes!\"\n",
        "\n",
        "### boxes_sold = "
      ],
      "execution_count": 0,
      "outputs": []
    },
    {
      "cell_type": "code",
      "metadata": {
        "id": "u6N-fX0O7Ws0",
        "colab_type": "code",
        "colab": {}
      },
      "source": [
        "\"\"\"\n",
        "Inverting Keys & Values\n",
        "\"\"\"\n",
        "\n",
        "# Invert dict1 - make the current keys into values and the current values into keys.\n",
        "\n",
        "\n",
        "dict1 = { \"k1\" : \"v1\", \"k2\" : \"v2\", \"k3\" : \"v1\" }"
      ],
      "execution_count": 0,
      "outputs": []
    },
    {
      "cell_type": "markdown",
      "metadata": {
        "id": "GlnKfnD77nU0",
        "colab_type": "text"
      },
      "source": [
        "## Pandas Basics"
      ]
    },
    {
      "cell_type": "markdown",
      "metadata": {
        "id": "amfiivJR7xYg",
        "colab_type": "text"
      },
      "source": [
        "### ndarrs"
      ]
    },
    {
      "cell_type": "code",
      "metadata": {
        "id": "Hrssu5Eq76B9",
        "colab_type": "code",
        "colab": {}
      },
      "source": [
        "\"\"\"\n",
        "ndarray properties\n",
        "\"\"\"\n",
        "\n",
        "import numpy as np\n",
        "\n",
        "# Creating array object\n",
        "arr = np.array([[1, 2, 3],\n",
        "                [4, 2, 5]])\n",
        "\n",
        "# Given the above:\n",
        "\n",
        "# Printing type of arr object\n",
        "print(\"Array is of type: \", None)  # how would you print type?\n",
        "\n",
        "# Printing array dimensions (axes)\n",
        "print(\"No. of dimensions: \", None)  # how would you print dimensions?\n",
        "\n",
        "# Printing shape of array\n",
        "print(\"Shape of array: \", None)  # how would you print \"shape\"\n",
        "\n",
        "# Printing size (total number of elements) of array\n",
        "print(\"Size of array: \", None)  # how would you print size?\n",
        "\n",
        "# Printing type of elements in array\n",
        "# how would you print element type?\n",
        "print(\"Array stores elements of type: \", None)"
      ],
      "execution_count": 0,
      "outputs": []
    },
    {
      "cell_type": "code",
      "metadata": {
        "id": "P3ViIAac78Ic",
        "colab_type": "code",
        "colab": {}
      },
      "source": [
        "\"\"\"\n",
        "ndarrays operations \n",
        "\"\"\"\n",
        "\n",
        "import numpy as np\n",
        "\n",
        "# Create array from list with type float\n",
        "a = None\n",
        "\n",
        "# Create array from tuple\n",
        "b = None\n",
        "\n",
        "# Create a 3X4 array with all zeros\n",
        "c = None"
      ],
      "execution_count": 0,
      "outputs": []
    },
    {
      "cell_type": "code",
      "metadata": {
        "id": "aewqCTaJ8BW3",
        "colab_type": "code",
        "colab": {}
      },
      "source": [
        "\"\"\"\n",
        "ndarray indexing\n",
        "\"\"\"\n",
        "\n",
        "import numpy as np\n",
        "\n",
        "# given this\n",
        "arr = np.array([[-1, 2, 0, 4],\n",
        "                [4, -0.5, 6, 0],\n",
        "                [2.6, 0, 7, 8],\n",
        "                [3, -7, 4, 2.0]])\n",
        "\n",
        "# grab first two rows of arr\n",
        "a = None\n",
        "\n",
        "# grab second and third row of arr\n",
        "b = None\n",
        "\n",
        "# grab first two rows of arr and first two columns\n",
        "c = None\n",
        "\n",
        "# grab elements at indices (0, 3), (1, 2), (2, 1), (3, 0)\n",
        "d = None\n",
        "\n",
        "# grab elements > 0\n",
        "e = None"
      ],
      "execution_count": 0,
      "outputs": []
    },
    {
      "cell_type": "code",
      "metadata": {
        "id": "RZ2mFN9Q8HP8",
        "colab_type": "code",
        "colab": {}
      },
      "source": [
        "\"\"\"\n",
        "basic operations\n",
        "\"\"\"\n",
        "\n",
        "import numpy as np\n",
        "\n",
        "a = np.array([1, 2, 5, 3])\n",
        "\n",
        "# add 1 to every element\n",
        "a = None\n",
        "print(\"Adding 1 to every element:\", a)\n",
        "\n",
        "# subtract 3 from each element\n",
        "b = None\n",
        "print(\"Subtracting 3 from each element:\", b)\n",
        "\n",
        "# multiply each element by 10\n",
        "c = None\n",
        "print(\"Multiplying each element by 10:\", c)\n",
        "\n",
        "# square each element\n",
        "d = None\n",
        "print(\"Squaring each element:\", d)\n",
        "\n",
        "# Doubled each element of original array\n",
        "print(\"Doubled each element of original array:\", arr)"
      ],
      "execution_count": 0,
      "outputs": []
    },
    {
      "cell_type": "code",
      "metadata": {
        "id": "PUWm4lCz8Q0S",
        "colab_type": "code",
        "colab": {}
      },
      "source": [
        "\"\"\"\n",
        "basic operations II\n",
        "\"\"\"\n",
        "\n",
        "import numpy as np\n",
        "\n",
        "arr = np.array([[1, 5, 6],\n",
        "                [4, 7, 2],\n",
        "                [3, 1, 9]])\n",
        "\n",
        "# maximum element of array\n",
        "print(\"Largest element is:\", 0)\n",
        "\n",
        "# minimum element of array\n",
        "print(\"Smallest element is:\", 0)\n",
        "\n",
        "# maximum element per row\n",
        "print(\"Row-wise maximum elements:\",\n",
        "      [])\n",
        "\n",
        "# minimum element per col\n",
        "print(\"Column-wise minimum elements:\",\n",
        "      [])\n",
        "\n",
        "# sum of array elements\n",
        "print(\"Sum of all array elements:\",\n",
        "      0)\n",
        "\n",
        "# cumulative sum along each row\n",
        "print(\"Cumulative sum along each row:\\n\",\n",
        "      0)\n",
        "\n",
        "c = np.array([[1, 2],\n",
        "              [3, 4]])\n",
        "d = np.array([[4, 3],\n",
        "              [2, 1]])\n",
        "\n",
        "# add arrays\n",
        "print(\"Array sum:\\n\", None)\n",
        "\n",
        "# multiply arrays (elementwise multiplication)\n",
        "print(\"Array multiplication:\\n\", None)"
      ],
      "execution_count": 0,
      "outputs": []
    },
    {
      "cell_type": "markdown",
      "metadata": {
        "id": "JChWdlUI8cZ9",
        "colab_type": "text"
      },
      "source": [
        "### Series"
      ]
    },
    {
      "cell_type": "code",
      "metadata": {
        "id": "RiHdfukx8gQk",
        "colab_type": "code",
        "colab": {}
      },
      "source": [
        "\"\"\"\n",
        "Simple Series\n",
        "\"\"\"\n",
        "\n",
        "\n",
        "# import pandas as pd\n",
        "import pandas as pd\n",
        "\n",
        "# import numpy as np\n",
        "import numpy as np\n",
        "\n",
        "\n",
        "# simple array\n",
        "data = np.array(['l', 'a', 'y', 'l', 'a'])\n",
        "\n",
        "# convert data to series\n",
        "ser = None\n",
        "\n",
        "# grab the first three items from ser\n",
        "sub = None\n",
        "\n",
        "# create series with custom label such that:\n",
        "\"\"\"\n",
        "a    l\n",
        "b    a\n",
        "c    y\n",
        "d    l\n",
        "e    a\n",
        "dtype: object\n",
        "\"\"\"\n",
        "ser2 = None\n",
        "\n",
        "# access \"y\" from series ser2\n",
        "print(\"accessing 'y'\", None)"
      ],
      "execution_count": 0,
      "outputs": []
    },
    {
      "cell_type": "code",
      "metadata": {
        "id": "ZlJUQib_8k7q",
        "colab_type": "code",
        "colab": {}
      },
      "source": [
        "\"\"\"\n",
        "Indexing and Selecting Series\n",
        "\"\"\"\n",
        "\n",
        "# import pandas as pd\n",
        "import pandas as pd\n",
        "\n",
        "# import numpy as np\n",
        "import numpy as np\n",
        "\n",
        "# create a new series\n",
        "s = pd.Series(np.nan, index=[49, 48, 47, 46, 45, 1, 2, 3, 4, 5])\n",
        "\n",
        "# using iloc, get the first 3 items in series\n",
        "t = None\n",
        "\n",
        "# using loc, do the same\n",
        "u = None\n",
        "\n",
        "# using index operators, do the same\n",
        "v = None"
      ],
      "execution_count": 0,
      "outputs": []
    },
    {
      "cell_type": "code",
      "metadata": {
        "id": "Wk63_jzq8phi",
        "colab_type": "code",
        "colab": {}
      },
      "source": [
        "\"\"\"\n",
        "Series operations\n",
        "\"\"\"\n",
        "\n",
        "# importing pandas module\n",
        "import pandas as pd\n",
        "\n",
        "# creating a series\n",
        "data1 = pd.Series([5, 2, 3, 7], index=['a', 'b', 'c', 'd'])\n",
        "\n",
        "# creating a series\n",
        "data2 = pd.Series([1, 6, 4, 9], index=['a', 'b', 'd', 'e'])\n",
        "\n",
        "# add data1 and data2\n",
        "\n",
        "\n",
        "# subtract data1 and data2"
      ],
      "execution_count": 0,
      "outputs": []
    }
  ]
}