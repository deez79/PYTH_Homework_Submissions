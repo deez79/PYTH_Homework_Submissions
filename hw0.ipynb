{
  "nbformat": 4,
  "nbformat_minor": 0,
  "metadata": {
    "colab": {
      "name": "Copy of hw0.ipynb",
      "version": "0.3.2",
      "provenance": [],
      "include_colab_link": true
    },
    "kernelspec": {
      "name": "python3",
      "display_name": "Python 3"
    }
  },
  "cells": [
    {
      "cell_type": "markdown",
      "metadata": {
        "id": "view-in-github",
        "colab_type": "text"
      },
      "source": [
        "<a href=\"https://colab.research.google.com/github/deez79/PYTH_Homework_Submissions/blob/master/hw0.ipynb\" target=\"_parent\"><img src=\"https://colab.research.google.com/assets/colab-badge.svg\" alt=\"Open In Colab\"/></a>"
      ]
    },
    {
      "cell_type": "code",
      "metadata": {
        "colab_type": "code",
        "outputId": "c78c285a-20b3-421d-a6bb-9801899320e1",
        "id": "d7sS6guucpgT",
        "colab": {
          "base_uri": "https://localhost:8080/",
          "height": 51
        }
      },
      "source": [
        "2 + 3\n",
        "first_name = \"derek\"\n",
        "last_name = \"s\"\n",
        "space = \" \"\n",
        "full_name = first_name + \" \" + last_name\n",
        "print(full_name)\n",
        "\n",
        "credit = 30\n",
        "item = 5.99\n",
        "\n",
        "if credit > item:\n",
        "  print(\"allowed\")\n",
        "else:\n",
        "  print(\"Nope\")"
      ],
      "execution_count": 0,
      "outputs": [
        {
          "output_type": "stream",
          "text": [
            "derek schulman\n",
            "allowed\n"
          ],
          "name": "stdout"
        }
      ]
    },
    {
      "cell_type": "code",
      "metadata": {
        "id": "RfgSbHFccjUI",
        "colab_type": "code",
        "outputId": "5a7e7fcf-4328-41a0-dfd0-b38fe206af01",
        "colab": {
          "base_uri": "https://localhost:8080/",
          "height": 34
        }
      },
      "source": [
        "num_items = 0\n",
        "credit = 30\n",
        "item = 6\n",
        "\n",
        "while credit >= item:\n",
        "  num_items = num_items + 1\n",
        "  credit = credit - item\n",
        "print(num_items)"
      ],
      "execution_count": 0,
      "outputs": [
        {
          "output_type": "stream",
          "text": [
            "5\n"
          ],
          "name": "stdout"
        }
      ]
    }
  ]
}