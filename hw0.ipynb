{
  "nbformat": 4,
  "nbformat_minor": 0,
  "metadata": {
    "colab": {
      "name": "hw01.ipynb",
      "version": "0.3.2",
      "provenance": [],
      "collapsed_sections": [],
      "include_colab_link": true
    },
    "kernelspec": {
      "name": "python3",
      "display_name": "Python 3"
    }
  },
  "cells": [
    {
      "cell_type": "markdown",
      "metadata": {
        "id": "view-in-github",
        "colab_type": "text"
      },
      "source": [
        "<a href=\"https://colab.research.google.com/github/deez79/PYTH_Homework_Submissions/blob/master/hw01.ipynb\" target=\"_parent\"><img src=\"https://colab.research.google.com/assets/colab-badge.svg\" alt=\"Open In Colab\"/></a>"
      ]
    },
    {
      "cell_type": "markdown",
      "metadata": {
        "id": "93112rBYLUS4",
        "colab_type": "text"
      },
      "source": [
        "#  BASIC DATA TYPES\n",
        "\n",
        "## BASICS\n",
        "\n",
        "### P1.PY\n",
        "\n",
        "\n"
      ]
    },
    {
      "cell_type": "code",
      "metadata": {
        "id": "kbX0gzQMLUS9",
        "colab_type": "code",
        "colab": {}
      },
      "source": [
        "\"\"\"\n",
        "Placeholders\n",
        "\"\"\"\n",
        "\n",
        "# You're writing a program, and you don't know what your starting value for your 'initial' variable is yet. The program won't run if you leave it blank, but you don't want to forget you need it! Make a workaround.\n",
        "\n",
        "initial = None"
      ],
      "execution_count": 0,
      "outputs": []
    },
    {
      "cell_type": "markdown",
      "metadata": {
        "id": "nc7yLtL5LUTP",
        "colab_type": "text"
      },
      "source": [
        "\n",
        "\n",
        "### P2.PY\n",
        "\n",
        "\n"
      ]
    },
    {
      "cell_type": "code",
      "metadata": {
        "id": "EkLYBiveLUTT",
        "colab_type": "code",
        "colab": {}
      },
      "source": [
        "\"\"\"\n",
        "Basic Variables\n",
        "\"\"\"\n",
        "\n",
        "# Create a variable that represents your favorite number, and add a note to remind yourself what this variable represents. Now print it out without re-typing the number.\n",
        "fav_num = 25 # favorite number 25\n",
        "print(fav_num)\n",
        "\n",
        "# Create another variable that represents your favorite color, and do the same steps as above.\n",
        "fav_color = 'blue' # favorite color is blue\n",
        "print(fav_color)\n"
      ],
      "execution_count": 0,
      "outputs": []
    },
    {
      "cell_type": "markdown",
      "metadata": {
        "id": "nw4dj143LUTb",
        "colab_type": "text"
      },
      "source": [
        "\n",
        "\n",
        "### P3.PY\n",
        "\n",
        "\n"
      ]
    },
    {
      "cell_type": "code",
      "metadata": {
        "id": "YT5eoIAGLUTe",
        "colab_type": "code",
        "outputId": "74a70055-ef0c-4f7b-d6f8-c8d1c786a094",
        "colab": {
          "base_uri": "https://localhost:8080/",
          "height": 121
        }
      },
      "source": [
        "\"\"\"\n",
        "String Formatting\n",
        "\"\"\"\n",
        "\n",
        "# Create a variable that contains the first 4 lines of your favorite song. \n",
        "#Add a comment that includes the song title and artist **each on their own line**! \n",
        "#Now print out this variable.\n",
        "lyrics = \"\"\"\n",
        "This are the lyrics to my favorite song.\n",
        "They go like this.\n",
        "la la la la la\n",
        "And probably repeat.\n",
        "\"\"\" # Title: made up.  Artist: No One.\n",
        "print(lyrics)"
      ],
      "execution_count": 0,
      "outputs": [
        {
          "output_type": "stream",
          "text": [
            "\n",
            "This are the lyrics to my favorite song.\n",
            "They go like this.\n",
            "la la la la la\n",
            "And probably repeat.\n",
            "\n"
          ],
          "name": "stdout"
        }
      ]
    },
    {
      "cell_type": "markdown",
      "metadata": {
        "id": "ur11VREGLUTl",
        "colab_type": "text"
      },
      "source": [
        "\n",
        "\n",
        "## TYPECASTING\n",
        "\n",
        "### P1.PY\n",
        "\n",
        "\n"
      ]
    },
    {
      "cell_type": "code",
      "metadata": {
        "id": "28Ygs5ZyLUTo",
        "colab_type": "code",
        "outputId": "8c0e43d9-900b-415a-9e33-869c9d0d7fcf",
        "colab": {
          "base_uri": "https://localhost:8080/",
          "height": 308
        }
      },
      "source": [
        "\"\"\"\n",
        "Typcasting w. Integers & Floats\n",
        "\"\"\"\n",
        "\n",
        "# Convert these numbers into floats and back. Print out each result as well as its data type.\n",
        "\n",
        "five = 5\n",
        "zero = 0\n",
        "neg_8 = -8\n",
        "neg_22 = -22\n",
        "\n",
        "# print(float(five))\n",
        "# print(float(zero))\n",
        "# print(float(neg_8))\n",
        "# print(float(neg_22))\n",
        "\n",
        "float_five = float(five)\n",
        "float_zero = float(zero)\n",
        "float_neg_8 = float(neg_8)\n",
        "float_neg_22 = float(neg_22)\n",
        "\n",
        "print(float_five)\n",
        "print(float_zero)\n",
        "print(float_neg_8)\n",
        "print(float_neg_22)\n",
        "\n",
        "print(type(float_five))\n",
        "print(type(float_zero))\n",
        "print(type(float_neg_8))\n",
        "print(type(float_neg_22))\n",
        "\n",
        "float_to_int_five = int(float_five)\n",
        "float_to_int_zero = int(float_zero)\n",
        "float_to_int_neg_8 = int(float_neg_8)\n",
        "float_to_int_neg_22 = int(float_neg_22)\n",
        "\n",
        "print(float_to_int_five)\n",
        "print(float_to_int_zero)\n",
        "print(float_to_int_neg_8)\n",
        "print(float_to_int_neg_22)\n",
        "\n",
        "print(type(float_to_int_five))\n",
        "print(type(float_to_int_zero))\n",
        "print(type(float_to_int_neg_8))\n",
        "print(type(float_to_int_neg_22))"
      ],
      "execution_count": 2,
      "outputs": [
        {
          "output_type": "stream",
          "text": [
            "5.0\n",
            "0.0\n",
            "-8.0\n",
            "-22.0\n",
            "<class 'float'>\n",
            "<class 'float'>\n",
            "<class 'float'>\n",
            "<class 'float'>\n",
            "5\n",
            "0\n",
            "-8\n",
            "-22\n",
            "<class 'int'>\n",
            "<class 'int'>\n",
            "<class 'int'>\n",
            "<class 'int'>\n"
          ],
          "name": "stdout"
        }
      ]
    },
    {
      "cell_type": "markdown",
      "metadata": {
        "id": "nFu6ynC7LUTv",
        "colab_type": "text"
      },
      "source": [
        "\n",
        "\n",
        "### P2.PY\n",
        "\n",
        "\n"
      ]
    },
    {
      "cell_type": "code",
      "metadata": {
        "id": "bRkl1GEdLUTy",
        "colab_type": "code",
        "colab": {
          "base_uri": "https://localhost:8080/",
          "height": 380
        },
        "outputId": "d1d92ec2-fb56-49dd-c68e-f58fd60ca0d4"
      },
      "source": [
        "\"\"\"\n",
        "Typcasting w. Strings\n",
        "\"\"\"\n",
        "\n",
        "# Convert these variables into strings and then back to their original data types. \n",
        "# Print out each result as well as its data type. What do you notice about the last one?\n",
        "\n",
        "five = 5\n",
        "zero = 0\n",
        "neg_8 = -8\n",
        "T = True\n",
        "F = False\n",
        "\n",
        "int_to_string_five = str(five)\n",
        "int_to_string_zero = str(zero)\n",
        "int_to_string_neg_8 = str(neg_8)\n",
        "int_to_string_T = str(T)\n",
        "int_to_string_F = str(F)\n",
        "\n",
        "print(int_to_string_five)\n",
        "print(type(int_to_string_five))\n",
        "print(int_to_string_zero)\n",
        "print(type(int_to_string_zero))\n",
        "print(int_to_string_neg_8)\n",
        "print(type(int_to_string_neg_8))\n",
        "print(int_to_string_T)\n",
        "print(type(int_to_string_T))\n",
        "print(int_to_string_F)\n",
        "print(type(int_to_string_F))\n",
        "\n",
        "string_to_int_five = int(int_to_string_five)\n",
        "string_to_int_zero = int(int_to_string_zero)\n",
        "string_to_int_neg_8 = int(int_to_string_zero)\n",
        "string_to_bool_T = bool(int_to_string_T)\n",
        "string_to_bool_F = bool(int_to_string_F)\n",
        "\n",
        "print(string_to_int_five)\n",
        "print(type(string_to_int_five))\n",
        "print(string_to_int_zero)\n",
        "print(type(string_to_int_zero))\n",
        "print(string_to_int_neg_8)\n",
        "print(type(string_to_int_neg_8))\n",
        "print(string_to_bool_T)\n",
        "print(type(string_to_bool_T))\n",
        "print(string_to_bool_F)         # results are True most likely because empty strings are False, and \n",
        "                                # strings that have values are always True.\n",
        "print(type(string_to_bool_F))   # results are Boolean "
      ],
      "execution_count": 4,
      "outputs": [
        {
          "output_type": "stream",
          "text": [
            "5\n",
            "<class 'str'>\n",
            "0\n",
            "<class 'str'>\n",
            "-8\n",
            "<class 'str'>\n",
            "True\n",
            "<class 'str'>\n",
            "False\n",
            "<class 'str'>\n",
            "5\n",
            "<class 'int'>\n",
            "0\n",
            "<class 'int'>\n",
            "0\n",
            "<class 'int'>\n",
            "True\n",
            "<class 'bool'>\n",
            "True\n",
            "<class 'bool'>\n"
          ],
          "name": "stdout"
        }
      ]
    },
    {
      "cell_type": "markdown",
      "metadata": {
        "id": "LBkxvQqdLUT6",
        "colab_type": "text"
      },
      "source": [
        "\n",
        "\n",
        "### P3.PY\n",
        "\n",
        "\n"
      ]
    },
    {
      "cell_type": "code",
      "metadata": {
        "id": "npSvyoeyLUT8",
        "colab_type": "code",
        "colab": {
          "base_uri": "https://localhost:8080/",
          "height": 344
        },
        "outputId": "511b07e5-7966-4483-d807-776ead7da770"
      },
      "source": [
        "\"\"\"\n",
        "Booleans I - Typecasting w. Numbers\n",
        "\"\"\"\n",
        "\n",
        "# A) Use typecasting to turn these variables into boolean values. Print the result and the datatype of the result. \n",
        "\n",
        "one = 1\n",
        "zero = 0\n",
        "\n",
        "int_to_bool_one = bool(one)\n",
        "int_to_bool_zero = bool(zero)\n",
        "\n",
        "print(int_to_bool_one)\n",
        "print(type(int_to_bool_one))\n",
        "\n",
        "print(int_to_bool_zero)\n",
        "print(type(int_to_bool_zero))\n",
        "\n",
        "\n",
        "# B) Use typecasting to turn the resultant variables from part A into floats. Print the result and the datatype of the result.\n",
        "\n",
        "bool_to_float_one = float(int_to_bool_one)\n",
        "bool_to_float_zero = float(int_to_bool_zero)\n",
        "\n",
        "print(bool_to_float_one)\n",
        "print(type(bool_to_float_one))\n",
        "print(bool_to_float_zero)\n",
        "print(type(bool_to_float_zero))\n",
        "\n",
        "# C) Use typecasting to turn the resultant variables from part B back into booleans. Print the result and the datatype of the result.\n",
        "\n",
        "float_to_bool_one = bool(bool_to_floats_one) \n",
        "float_to_bool_zero = bool(bool_to_float_zero)\n",
        "\n",
        "print(float_to_bool_one)\n",
        "print(type(float_to_bool_one))\n",
        "print(float_to_bool_zero)\n",
        "print(type(float_to_bool_zero))\n",
        "\n",
        "# D) Use typecasting to turn the resultant variables from part C into integers. Print the result and the datatype of the result.\n",
        "\n",
        "bool_to_int_one = int(float_to_bool_one)\n",
        "bool_to_int_zero = int(float_to_bool_zero)\n",
        "\n",
        "print(bool_to_int_one)\n",
        "print(type(bool_to_int_one))\n",
        "print(bool_to_int_zero)\n",
        "print(type(bool_to_int_zero))\n",
        "\n",
        "# E) Use typecasting to turn the variable below into a boolean value. Print the result and the datatype of the result. \n",
        "\n",
        "ten = 10\n",
        "\n",
        "int_to_bool_ten = bool(ten)\n",
        "\n",
        "print(int_to_bool_ten)\n",
        "print(type(int_to_bool_ten))\n",
        "\n"
      ],
      "execution_count": 11,
      "outputs": [
        {
          "output_type": "stream",
          "text": [
            "True\n",
            "<class 'bool'>\n",
            "False\n",
            "<class 'bool'>\n",
            "1.0\n",
            "<class 'float'>\n",
            "0.0\n",
            "<class 'float'>\n",
            "True\n",
            "<class 'bool'>\n",
            "False\n",
            "<class 'bool'>\n",
            "1\n",
            "<class 'int'>\n",
            "0\n",
            "<class 'int'>\n",
            "True\n",
            "<class 'bool'>\n"
          ],
          "name": "stdout"
        }
      ]
    },
    {
      "cell_type": "markdown",
      "metadata": {
        "id": "kQAhfITyLUUB",
        "colab_type": "text"
      },
      "source": [
        "\n",
        "\n",
        "### P4.PY\n",
        "\n",
        "\n"
      ]
    },
    {
      "cell_type": "code",
      "metadata": {
        "id": "rsyXRTHXLUUD",
        "colab_type": "code",
        "colab": {
          "base_uri": "https://localhost:8080/",
          "height": 308
        },
        "outputId": "6b3ff32f-73e7-49e8-9b56-deafcc9963ae"
      },
      "source": [
        "\"\"\"\n",
        "Booleans II - Typecasting w. Strings\n",
        "\"\"\"\n",
        "\n",
        "# A) Use typecasting to turn these variables into boolean values. Print the result and the datatype of the result. \n",
        "\n",
        "one = 1\n",
        "zero = 0\n",
        "bool_true = True\n",
        "bool_false = False\n",
        "\n",
        "int_to_bool_one = bool(one)\n",
        "int_to_bool_zero = bool(zero)\n",
        "bool_to_bool_true = bool(bool_true)\n",
        "bool_to_bool_false = bool(bool_false)\n",
        "\n",
        "converts = [int_to_bool_one, int_to_bool_zero, bool_to_bool_true, bool_to_bool_false]\n",
        "for convert in converts:\n",
        "  print(convert)\n",
        "  print(type(convert))\n",
        "\n",
        "# B) Use typecasting to turn the latest values for variables 'one' and 'zero' \n",
        "# back into integers. Print the result and the datatype of the result.\n",
        "\n",
        "bool_to_int_one = int(int_to_bool_one)\n",
        "bool_to_int_zero = int(int_to_bool_zero)\n",
        "\n",
        "part_Bs = [bool_to_int_one, bool_to_int_zero]\n",
        "for part_B in part_Bs:\n",
        "  print(part_B)\n",
        "  print(type(part_B))\n",
        "\n",
        "\n",
        "# C) Use typecasting to turn the latest values for variables 'bool_true' and 'bool_false' \n",
        "# back into boolean values. Print the result and the datatype of the result.\n",
        "\n",
        "bool_to_original_true = bool(bool_to_bool_true)\n",
        "bool_to_original_false = bool(bool_to_bool_false)\n",
        "\n",
        "part_Cs = [bool_to_original_true, bool_to_original_false]\n",
        "\n",
        "for part_C in part_Cs:\n",
        "  print(part_C)\n",
        "  print(type(part_C))\n",
        "\n",
        "\n",
        "\n"
      ],
      "execution_count": 14,
      "outputs": [
        {
          "output_type": "stream",
          "text": [
            "True\n",
            "<class 'bool'>\n",
            "False\n",
            "<class 'bool'>\n",
            "True\n",
            "<class 'bool'>\n",
            "False\n",
            "<class 'bool'>\n",
            "1\n",
            "<class 'int'>\n",
            "0\n",
            "<class 'int'>\n",
            "True\n",
            "<class 'bool'>\n",
            "False\n",
            "<class 'bool'>\n"
          ],
          "name": "stdout"
        }
      ]
    },
    {
      "cell_type": "markdown",
      "metadata": {
        "id": "gaShWKHmLUUI",
        "colab_type": "text"
      },
      "source": [
        "\n",
        "\n",
        "## OPERATORS\n",
        "\n",
        "### P1.PY\n",
        "\n",
        "\n"
      ]
    },
    {
      "cell_type": "code",
      "metadata": {
        "id": "DnU14OwTLUUK",
        "colab_type": "code",
        "colab": {
          "base_uri": "https://localhost:8080/",
          "height": 108
        },
        "outputId": "4c43e5a5-c9d5-48e0-83c1-d812e19fc5b8"
      },
      "source": [
        "\"\"\"\n",
        "Integer & Float Operators\n",
        "\"\"\"\n",
        "\n",
        "# Complete the specified math operations. Do the next operation on the result from the previous operation.\n",
        "\n",
        "orig_var = 100\n",
        "\n",
        "# Add 50\n",
        "\n",
        "new_var = orig_var + 50\n",
        "# print(new_var)\n",
        "\n",
        "# Subtract 90\n",
        "\n",
        "new_var = new_var - 90\n",
        "# print(new_var)\n",
        "\n",
        "# Multiply 10\n",
        "\n",
        "new_var = new_var * 10\n",
        "# print(new_var)\n",
        "\n",
        "# Divide 150\n",
        "\n",
        "new_var = new_var / 150\n",
        "# print(new_var)\n",
        "\n",
        "# Modulus 3\n",
        "\n",
        "new_var = new_var % 3\n",
        "# print(new_var)"
      ],
      "execution_count": 16,
      "outputs": [
        {
          "output_type": "stream",
          "text": [
            "150\n",
            "60\n",
            "600\n",
            "4.0\n",
            "1.0\n"
          ],
          "name": "stdout"
        }
      ]
    },
    {
      "cell_type": "markdown",
      "metadata": {
        "id": "sOR2kK1uLUUR",
        "colab_type": "text"
      },
      "source": [
        "\n",
        "\n",
        "### P2.PY\n",
        "\n",
        "\n"
      ]
    },
    {
      "cell_type": "code",
      "metadata": {
        "id": "DAceInbSLUUS",
        "colab_type": "code",
        "colab": {
          "base_uri": "https://localhost:8080/",
          "height": 35
        },
        "outputId": "86f6e677-d1eb-4d44-ee3e-2776df9fc97b"
      },
      "source": [
        "\"\"\"\n",
        "String Operators\n",
        "\"\"\"\n",
        "\n",
        "# Create two variables, each of which is half of a compound sentence. \n",
        "# Do NOT add any punctuation up front. \n",
        "# Add the two variables together, and print the result.\n",
        "## Example compound sentence: \"I'll go to the beach today, and I'll go snorkeling.\" \n",
        "\n",
        "sentence_01 = \"I'll do some python today\"\n",
        "sentence_02 = \"and learn a few things\"\n",
        "\n",
        "\n",
        "print(sentence_01 + \", \" + sentence_02 +\".\")"
      ],
      "execution_count": 17,
      "outputs": [
        {
          "output_type": "stream",
          "text": [
            "I'll do some python today, and learn a few things.\n"
          ],
          "name": "stdout"
        }
      ]
    },
    {
      "cell_type": "markdown",
      "metadata": {
        "id": "X_gbuN1CLUUe",
        "colab_type": "text"
      },
      "source": [
        "\n",
        "\n",
        "### P3.PY\n",
        "\n",
        "\n"
      ]
    },
    {
      "cell_type": "code",
      "metadata": {
        "id": "iPqJlTt7LUUg",
        "colab_type": "code",
        "colab": {
          "base_uri": "https://localhost:8080/",
          "height": 35
        },
        "outputId": "db2911fe-7b37-4bad-fb6c-3d1856f7696d"
      },
      "source": [
        "\"\"\"\n",
        "Addition I - Numbers & Strings\n",
        "\"\"\"\n",
        "\n",
        "# Add the below sets of variables together.\n",
        "\n",
        "# A)\n",
        "a = 0\n",
        "b = 2\n",
        "\n",
        "results_A = a + b\n",
        "# print(results_A)\n",
        "\n",
        "\n",
        "# B)\n",
        "c = '0'\n",
        "d = '2'\n",
        "\n",
        "results_B = c + d\n",
        "# print(results_B)\n",
        "\n",
        "\n",
        "# C)\n",
        "e = \"0\"\n",
        "f = 2\n",
        "\n",
        "results_C = e + f\n",
        "# print(results_C)  # No need to print, as this will throw an error.\n",
        "# results_fixed = int(e) + f   # fixed the error.\n",
        "# print(results_fixed)\n",
        "# results_alt_fix = e + str(f)\n",
        "# print(results_alt_fix)"
      ],
      "execution_count": 24,
      "outputs": [
        {
          "output_type": "stream",
          "text": [
            "02\n"
          ],
          "name": "stdout"
        }
      ]
    },
    {
      "cell_type": "markdown",
      "metadata": {
        "id": "LmjFkG3yLUUl",
        "colab_type": "text"
      },
      "source": [
        "\n",
        "\n",
        "### P4.PY\n",
        "\n",
        "\n"
      ]
    },
    {
      "cell_type": "code",
      "metadata": {
        "id": "pJL-BEBhLUUn",
        "colab_type": "code",
        "colab": {
          "base_uri": "https://localhost:8080/",
          "height": 72
        },
        "outputId": "72c44574-ff23-4510-ed73-9101369fac36"
      },
      "source": [
        "\"\"\"\n",
        "Addition II - Booleans\n",
        "\"\"\"\n",
        "\n",
        "# Add the below sets of variables together.\n",
        "\n",
        "# A)\n",
        "a = True\n",
        "b = True\n",
        "\n",
        "results_A = a + b\n",
        "# print(results_A)\n",
        "\n",
        "\n",
        "# B)\n",
        "c = False\n",
        "d = False\n",
        "\n",
        "results_B = c + d\n",
        "# print(results_B)\n",
        "\n",
        "# C)\n",
        "e = True\n",
        "f = False\n",
        "\n",
        "results_C = e + f\n",
        "# print(results_C)"
      ],
      "execution_count": 25,
      "outputs": [
        {
          "output_type": "stream",
          "text": [
            "2\n",
            "0\n",
            "1\n"
          ],
          "name": "stdout"
        }
      ]
    },
    {
      "cell_type": "markdown",
      "metadata": {
        "id": "jeydEU5oLUUt",
        "colab_type": "text"
      },
      "source": [
        "\n"
      ]
    }
  ]
}