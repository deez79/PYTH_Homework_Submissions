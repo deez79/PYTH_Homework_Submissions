{
  "nbformat": 4,
  "nbformat_minor": 0,
  "metadata": {
    "colab": {
      "name": "hw3.ipynb",
      "provenance": [],
      "collapsed_sections": [
        "1xB-oj5bs3kz",
        "_7VmQULRjFyy",
        "dF2YQBhShGIX",
        "XbCPoqjthGIh",
        "Yf9UYzNQhGIo",
        "Tcx6AvDJhGIx",
        "HMIx2JrXhGI4",
        "NMEiNvajhGI_",
        "UQnHMrND_WWe",
        "9_Uh9F96hGJH",
        "YS4_FvVAhGJO",
        "8B8auy6xhGJU",
        "u2Ifjhjm_MPA",
        "Ry2DQDJghGJb",
        "l61GM5lShGJu"
      ],
      "include_colab_link": true
    },
    "kernelspec": {
      "name": "python3",
      "display_name": "Python 3"
    }
  },
  "cells": [
    {
      "cell_type": "markdown",
      "metadata": {
        "id": "view-in-github",
        "colab_type": "text"
      },
      "source": [
        "<a href=\"https://colab.research.google.com/github/deez79/PYTH_Homework_Submissions/blob/master/hw3.ipynb\" target=\"_parent\"><img src=\"https://colab.research.google.com/assets/colab-badge.svg\" alt=\"Open In Colab\"/></a>"
      ]
    },
    {
      "cell_type": "markdown",
      "metadata": {
        "id": "jIv_sbLuhGIL",
        "colab_type": "text"
      },
      "source": [
        "#  LOOPS"
      ]
    },
    {
      "cell_type": "markdown",
      "metadata": {
        "id": "1xB-oj5bs3kz",
        "colab_type": "text"
      },
      "source": [
        "## Loop_Basics"
      ]
    },
    {
      "cell_type": "markdown",
      "metadata": {
        "id": "_7VmQULRjFyy",
        "colab_type": "text"
      },
      "source": [
        "### P1.PY"
      ]
    },
    {
      "cell_type": "code",
      "metadata": {
        "id": "pMCrYm1hhGIO",
        "colab_type": "code",
        "outputId": "6d0878a9-a69e-4c84-822d-0a2cf609362d",
        "colab": {
          "base_uri": "https://localhost:8080/",
          "height": 35
        }
      },
      "source": [
        "\"\"\"\n",
        "Odds & Evens\n",
        "\"\"\"\n",
        "\n",
        "# Use a loop to make a list of all odd numbers between 1 and 10 and another list with all the evens. When done, print the lists.\n",
        "r = range(1, 11)\n",
        "\n",
        "odds = []\n",
        "evens = []\n",
        "\n",
        "for num in r:\n",
        "  if num % 2 == 0:\n",
        "    evens.append(num)\n",
        "  else:\n",
        "    odds.append(num)\n",
        "\n",
        "# odds = \n",
        "\n",
        "# evens = \n",
        "\n",
        "print(odds, evens)\n"
      ],
      "execution_count": 9,
      "outputs": [
        {
          "output_type": "stream",
          "text": [
            "[1, 3, 5, 7, 9] [2, 4, 6, 8, 10]\n"
          ],
          "name": "stdout"
        }
      ]
    },
    {
      "cell_type": "markdown",
      "metadata": {
        "id": "dF2YQBhShGIX",
        "colab_type": "text"
      },
      "source": [
        "\n",
        "\n",
        "### P2.PY\n",
        "\n",
        "\n"
      ]
    },
    {
      "cell_type": "code",
      "metadata": {
        "id": "id4F7umShGIa",
        "colab_type": "code",
        "outputId": "27663f9d-d8a9-4645-876e-859fe913228c",
        "colab": {
          "base_uri": "https://localhost:8080/",
          "height": 72
        }
      },
      "source": [
        "\"\"\"\n",
        "Lists with Duplicates\n",
        "\"\"\"\n",
        "\n",
        "# First, print list a below as it is now.\n",
        "\n",
        "a = [2, 4, 10, 20, 5, 2, 20, 4]\n",
        "b = [13, 2, 25, 20, 4, 8]\n",
        "\n",
        "print(a, \"\\n\")\n",
        "\n",
        "# Using a loop, remove the duplicate items from list a and print out the updated list.\n",
        "\n",
        "temp_a = []\n",
        "\n",
        "# print(f'Here is what is in a: {a} \\nand what is in temp_a: {temp_a}\\n')\n",
        "\n",
        "for num in a:\n",
        "  if num not in temp_a:\n",
        "    temp_a.append(num)\n",
        "# print(f'Here is what is in a: {a} \\nand what is in temp_a: {temp_a}\\n')\n",
        "a = temp_a \n",
        "# print(f'Here is what is in a: {a} \\nand what is in temp_a: {temp_a}\\n')\n",
        "\n",
        "# Using a loop, merge list b into list a without adding any duplicates.\n",
        "\n",
        "for num in b:\n",
        "  if num not in a:\n",
        "    a.append(num)\n",
        "\n",
        "# print(f'Here is what is in a: {a} \\nand what is in b: {b}\\n')\n",
        "print(a)"
      ],
      "execution_count": 8,
      "outputs": [
        {
          "output_type": "stream",
          "text": [
            "[2, 4, 10, 20, 5, 2, 20, 4] \n",
            "\n",
            "[2, 4, 10, 20, 5, 13, 25, 8]\n"
          ],
          "name": "stdout"
        }
      ]
    },
    {
      "cell_type": "markdown",
      "metadata": {
        "id": "XbCPoqjthGIh",
        "colab_type": "text"
      },
      "source": [
        "\n",
        "\n",
        "### P3.PY\n",
        "\n",
        "\n"
      ]
    },
    {
      "cell_type": "code",
      "metadata": {
        "id": "jSJA1UKehGIi",
        "colab_type": "code",
        "outputId": "8fd0b62c-efa2-4efa-9446-09c3e5e90f03",
        "colab": {
          "base_uri": "https://localhost:8080/",
          "height": 34
        }
      },
      "source": [
        "\"\"\"\n",
        "Temperature Conversions\n",
        "\"\"\"\n",
        "\n",
        "# You're studying climate change, and over the last 3 years, \n",
        "# you've recorded the temperature at noon every day in degrees Fahrenheit (F). \n",
        "# The var sampleF holds a portion of those recordings. \n",
        "\n",
        "sampleF = [71.6, 82.4, 91.4, 107.6, 125.6]\n",
        "\n",
        "# Convert each item in this list into degrees Celsius and \n",
        "# add the results to a dict called sample_temps so that \n",
        "# the conversion of each day's temperature is easily accessible. \n",
        "# For reference, the conversion equation between F and C is:\n",
        "# Celsius = (Fahrenheit - 32) * 5.0/9.0\n",
        "sample_temps = {}\n",
        "for i in sampleF:\n",
        "  sample_temps[i] = (i -32) * (5.0/9.0)\n",
        "\n",
        "\n",
        "# sample_temps = \n",
        "print(sample_temps)\n"
      ],
      "execution_count": 0,
      "outputs": [
        {
          "output_type": "stream",
          "text": [
            "{71.6: 21.999999999999996, 82.4: 28.000000000000004, 91.4: 33.00000000000001, 107.6: 42.0, 125.6: 52.0}\n"
          ],
          "name": "stdout"
        }
      ]
    },
    {
      "cell_type": "markdown",
      "metadata": {
        "id": "Yf9UYzNQhGIo",
        "colab_type": "text"
      },
      "source": [
        "\n",
        "\n",
        "### P4.PY\n",
        "\n",
        "\n"
      ]
    },
    {
      "cell_type": "code",
      "metadata": {
        "id": "rhz7O-BbhGIq",
        "colab_type": "code",
        "outputId": "359c56fa-54d6-40e2-c526-cd636355f4aa",
        "colab": {
          "base_uri": "https://localhost:8080/",
          "height": 51
        }
      },
      "source": [
        "\"\"\"\n",
        "Factorial\n",
        "\"\"\"\n",
        "\n",
        "# Find the factorial of a number input by a user. Then print out the factors within the factorial and then print out the actual numeric answer. Hint: The formula for a factorial is n! = (n-1)*n.\n",
        "\n",
        "\n",
        "# Example output:\n",
        "\"\"\"\n",
        "8! = 8*7*6*5*4*3*2*1\n",
        "8! = 40320\n",
        "\"\"\"\n",
        "\n",
        "user_input = input('Enter a number to find its factorial: ')\n",
        "\n",
        "factorial = int(user_input)\n",
        "# factorial = 8\n",
        "\n",
        "r = range(1, factorial + 1)\n",
        "sum_product = 1\n",
        "\n",
        "for i in r:\n",
        " sum_product = sum_product * i\n",
        "\n",
        "print(sum_product) "
      ],
      "execution_count": 0,
      "outputs": [
        {
          "output_type": "stream",
          "text": [
            "Enter a number to find its factorial: 8\n",
            "40320\n"
          ],
          "name": "stdout"
        }
      ]
    },
    {
      "cell_type": "markdown",
      "metadata": {
        "id": "Tcx6AvDJhGIx",
        "colab_type": "text"
      },
      "source": [
        "\n",
        "\n",
        "### P5.PY\n",
        "\n",
        "\n"
      ]
    },
    {
      "cell_type": "code",
      "metadata": {
        "id": "93KGqNONhGIz",
        "colab_type": "code",
        "outputId": "e50a429c-e3c3-42fd-be70-498cf2243a80",
        "colab": {
          "base_uri": "https://localhost:8080/",
          "height": 51
        }
      },
      "source": [
        "\"\"\"\n",
        "Factors\n",
        "\"\"\"\n",
        "\n",
        "# Find all factors of a number that a user inputs and print out 'The factors of <the_user_input_number> are: '.\n",
        "\n",
        "user_input = input('Enter a number to find its factors: ')\n",
        "\n",
        "number = int(user_input)\n",
        "# number = 12\n",
        "\n",
        "r = range(1, int((number**0.5))+1)\n",
        "factor = []\n",
        "\n",
        "for i in r:\n",
        "  if number % i == 0:\n",
        "    factor.append(i)\n",
        "    factor.append(int(number/i))\n",
        "\n",
        "print(factor)\n",
        "# print(factor.sort(reverse=False))\n"
      ],
      "execution_count": 0,
      "outputs": [
        {
          "output_type": "stream",
          "text": [
            "Enter a number to find its factors: 12\n",
            "[1, 12, 2, 6, 3, 4]\n"
          ],
          "name": "stdout"
        }
      ]
    },
    {
      "cell_type": "markdown",
      "metadata": {
        "id": "HMIx2JrXhGI4",
        "colab_type": "text"
      },
      "source": [
        "\n",
        "\n",
        "### P6.PY\n",
        "\n",
        "\n"
      ]
    },
    {
      "cell_type": "code",
      "metadata": {
        "id": "vFhdmDLWhGI6",
        "colab_type": "code",
        "outputId": "76f32323-4124-4c0f-cf61-0e4df57a7549",
        "colab": {
          "base_uri": "https://localhost:8080/",
          "height": 108
        }
      },
      "source": [
        "\"\"\"\n",
        "GCD\n",
        "\"\"\"\n",
        "\n",
        "# Find the greatest common denominator (GCD) of two number input by a user. Then print out 'The GCD of <first number> and <second number> is <your result>.'\n",
        "\n",
        "\n",
        "###--- User Input ---###\n",
        "print('Enter two numbers to find their greatest common denominator.')\n",
        "\n",
        "user_input1 = input('First number: ')\n",
        "user_input2 = input('Second number: ')\n",
        "\n",
        "n1 = int(user_input1)\n",
        "n2 = int(user_input2)\n",
        "\n",
        "# n1 = 6\n",
        "# n2 = 12\n",
        "\n",
        "###--- Logic to find smaller user input ---###\n",
        "\n",
        "if n1 > n2:\n",
        "  l = n1\n",
        "  s = n2\n",
        "else:\n",
        "  l = n2\n",
        "  s = n1\n",
        "\n",
        "###---  Attempt 1 ---###\n",
        "##--- Find factors of smaller one ---##\n",
        "\n",
        "factor = []\n",
        "shared = []\n",
        "\n",
        "r = range(1, int(s**0.5)+1)\n",
        "\n",
        "for i in r:\n",
        "  if s % i == 0:\n",
        "    factor.append(i)\n",
        "    factor.append(int(s/i))\n",
        "# print(factor)\n",
        "\n",
        "##--- Find Shared factors by dividing Larger number by factors of smaller ---##\n",
        "for i in factor:\n",
        "  if l % i == 0:\n",
        "    shared.append(i)\n",
        "# print(shared)\n",
        "\n",
        "print(max(shared))\n",
        "\n",
        "\n",
        "###--- Attempt 2 ---###\n",
        "\n",
        "factor2 = []\n",
        "\n",
        "for i in r:\n",
        "  if s % i == 0 and l % i == 0:\n",
        "    factor2.append(i)\n",
        "    factor2.append(int(s/i))\n",
        "\n",
        "print(max(factor2))\n"
      ],
      "execution_count": 10,
      "outputs": [
        {
          "output_type": "stream",
          "text": [
            "Enter two numbers to find their greatest common denominator.\n",
            "First number: 6\n",
            "Second number: 12\n",
            "6\n",
            "6\n"
          ],
          "name": "stdout"
        }
      ]
    },
    {
      "cell_type": "markdown",
      "metadata": {
        "id": "NMEiNvajhGI_",
        "colab_type": "text"
      },
      "source": [
        "## DICT_LOOPS"
      ]
    },
    {
      "cell_type": "markdown",
      "metadata": {
        "id": "UQnHMrND_WWe",
        "colab_type": "text"
      },
      "source": [
        "### P1.PY"
      ]
    },
    {
      "cell_type": "code",
      "metadata": {
        "id": "29W1iXPBhGJB",
        "colab_type": "code",
        "outputId": "7bba90ee-9b78-4a3d-9c97-86886ea4c3ff",
        "colab": {
          "base_uri": "https://localhost:8080/",
          "height": 34
        }
      },
      "source": [
        "\"\"\"\n",
        "Contacts\n",
        "\"\"\"\n",
        "\n",
        "# You went to a conference and got people to sign up for text \n",
        "# updates from your startup. Go through this dict to make i\n",
        "# the phone numbers readable to a computer. \n",
        "\n",
        "# Hint: It can't include any non-numeric\n",
        "# characters.\n",
        "\n",
        "contacts = {\n",
        "\t'Jamie': '1.192.168.0143',\n",
        "\t'Kartik': '1.837.209.1121',\n",
        "\t'Grant': '1.826.386.1758',\n",
        "\t'Brandon': '1.935.297.9447',\n",
        "\t'Monique': '1.702.716.5353',\n",
        "\t'Sohom': '1.576.619.6100',\n",
        "}\n",
        "\n",
        "### --- Scratch Copy --- ###\n",
        "# for i in contacts:\n",
        "# \t# print(contacts[i])\n",
        "# \t# print(\"break\")\n",
        "# \t# print(contacts.get(i))\n",
        "# \tphone_number = []\n",
        "# \ttemp_phone = contacts[i]\n",
        "# \t# print(temp_phone)\n",
        "# \tfor n in temp_phone:\n",
        "# \t\ttry:\n",
        "# \t\t\tif int(n) >= 0:\n",
        "# \t\t\t\tphone_number.append(n)\n",
        "# \t\texcept:\n",
        "# \t\t\tpass\n",
        "# \t# print(phone_number)\n",
        "# \tphone_number = \"\".join(phone_number)\n",
        "# \t# print(phone_number)\n",
        "# \tcontacts[i] = phone_number\n",
        "# print(contacts)\n",
        " \n",
        "for i in contacts:\n",
        "\tphone_number = []\n",
        "\ttemp_phone = contacts[i]\n",
        "\tfor n in temp_phone:\n",
        "\t\ttry:\n",
        "\t\t\tif int(n) >= 0:\n",
        "\t\t\t\tphone_number.append(n)\n",
        "\t\texcept:\n",
        "\t\t\tpass\n",
        "\tphone_number = \"\".join(phone_number)\n",
        "\tcontacts[i] = phone_number\n",
        "print(contacts)\n",
        " "
      ],
      "execution_count": 0,
      "outputs": [
        {
          "output_type": "stream",
          "text": [
            "{'Jamie': '11921680143', 'Kartik': '18372091121', 'Grant': '18263861758', 'Brandon': '19352979447', 'Monique': '17027165353', 'Sohom': '15766196100'}\n"
          ],
          "name": "stdout"
        }
      ]
    },
    {
      "cell_type": "markdown",
      "metadata": {
        "id": "9_Uh9F96hGJH",
        "colab_type": "text"
      },
      "source": [
        "\n",
        "\n",
        "### P2.PY\n",
        "\n",
        "\n"
      ]
    },
    {
      "cell_type": "code",
      "metadata": {
        "id": "HGKk97jyhGJI",
        "colab_type": "code",
        "outputId": "44c2e23a-74ea-4105-97cf-885702ed2404",
        "colab": {
          "base_uri": "https://localhost:8080/",
          "height": 92
        }
      },
      "source": [
        "\"\"\"\n",
        "Grades\n",
        "\"\"\"\n",
        "# Here's a dict containing students' grades from the semester's assignments.\n",
        "\n",
        "students = {\n",
        "  'Ashton': [86, 45, 98, 100],\n",
        "  'Sierra': [100, 100, 100, 100],\n",
        "  'Zach': [38, 49, 90, 87],\n",
        "  'Manuel': [98, 92, 86, 100],\n",
        "  'Felicia': [94, 87, 89, 95],\n",
        "  'Ankur': [75, 77, 77, 85],\n",
        "  'Ananya': [98, 94, 87, 92],\n",
        "  'Nick': [79, 84, 89, 90],\n",
        "  'Olivia': [83, 91, 69, 85],\n",
        "  'Molly': [83, 74, 72, 90]\n",
        "}\n",
        "\n",
        "# p 1.1) Create a dict called num_grades to store each student's average numerical grade for the semester.\n",
        "\n",
        "num_grades = dict(students)          # create duplicate of students called num_grades to work with\n",
        "\n",
        "###---Loop through num_grades dict of student and grades ---###\n",
        "for grade in num_grades:\n",
        "  # print(grade)\n",
        "  # print(num_grades[grade])\n",
        "  temp_list = num_grades[grade]\n",
        "  # print(temp_list)\n",
        "  avg = sum(temp_list) / len(temp_list)\n",
        "  # print(avg)\n",
        "  num_grades[grade] = avg\n",
        "print(num_grades)\n",
        "# print(students)\n",
        "\n",
        "\n",
        "# p 1.2) Create a dict called letter_grades to store each student's final letter grade for the semester. Use A, B, C, D, and F as grades per the standard grading scale.\n",
        "\n",
        "letter_grades = dict(num_grades)\n",
        "\n",
        "for grade in letter_grades:\n",
        "  if letter_grades[grade] > 90:\n",
        "    letter_grades[grade] = 'A'\n",
        "  elif letter_grades[grade] > 80:\n",
        "    letter_grades[grade] = 'B'\n",
        "  elif letter_grades[grade] > 70:\n",
        "    letter_grades[grade] = 'C'\n",
        "  elif letter_grades[grade] > 60:\n",
        "    letter_grades[grade] = 'D'\n",
        "  elif letter_grades[grade] < 60:\n",
        "    letter_grades[grade] = 'F'\n",
        "print(letter_grades)\n",
        "\n",
        "\n",
        "\n",
        "# p 1.3) Create a list of honor roll students (i.e. students who got A's).\n",
        "\n",
        "honor_roll = dict(letter_grades) \n",
        "\n",
        "for student in letter_grades:\n",
        "  # print(honor_roll[student])\n",
        "  if letter_grades[student] != 'A':\n",
        "    # print(\"no A for you\")\n",
        "    # honor_roll[student].popitem()\n",
        "    non_honor_student = honor_roll.pop(student)\n",
        "\n",
        "\n",
        "print(honor_roll)\n",
        "\n",
        "\n",
        "\n",
        "\n"
      ],
      "execution_count": 26,
      "outputs": [
        {
          "output_type": "stream",
          "text": [
            "{'Ashton': 82.25, 'Sierra': 100.0, 'Zach': 66.0, 'Manuel': 94.0, 'Felicia': 91.25, 'Ankur': 78.5, 'Ananya': 92.75, 'Nick': 85.5, 'Olivia': 82.0, 'Molly': 79.75}\n",
            "{'Ashton': 'B', 'Sierra': 'A', 'Zach': 'D', 'Manuel': 'A', 'Felicia': 'A', 'Ankur': 'C', 'Ananya': 'A', 'Nick': 'B', 'Olivia': 'B', 'Molly': 'C'}\n",
            "{'Sierra': 'A', 'Manuel': 'A', 'Felicia': 'A', 'Ananya': 'A'}\n"
          ],
          "name": "stdout"
        }
      ]
    },
    {
      "cell_type": "markdown",
      "metadata": {
        "id": "YS4_FvVAhGJO",
        "colab_type": "text"
      },
      "source": [
        "\n",
        "\n",
        "### P3.PY\n",
        "\n",
        "\n"
      ]
    },
    {
      "cell_type": "code",
      "metadata": {
        "id": "jIHqffQJhGJP",
        "colab_type": "code",
        "colab": {
          "base_uri": "https://localhost:8080/",
          "height": 73
        },
        "outputId": "ff8e70b7-a6c1-4d42-be17-4853471bbf77"
      },
      "source": [
        "\"\"\"\n",
        "Price Inventory\n",
        "\"\"\"\n",
        "\n",
        "# Imagine you're the owner of an Italian restaurant. \n",
        "# You're evaluating your pricing to make sure it's up to date \n",
        "# with the latest costs of making each menu item \n",
        "# (see the menu prices and costs dicts below). \n",
        "# Evaluate whether each item's price returns a \n",
        "# profit margin of at least $1.00. \n",
        "# If it doesn't, update the menu_prices dict with a new price \n",
        "# that gives the item a $1.00 profit margin. \n",
        "# Then print out the items which you've repriced \n",
        "# in a new dict called price_increases.\n",
        "\n",
        "menu_prices = {\n",
        "\t'fettuccine bolognese': 14.99,\n",
        "\t'gnocchi gorgonzola': 10.99,\n",
        "\t'chicken parmigiano': 13.99,\n",
        "\t'butternut squash risotto': 9.99,\n",
        "\t'spaghetti carbonara': 12.99,\n",
        "\t'pizza margherita': 12.99,\n",
        "\t'chicken marsala': 13.99\n",
        "}\n",
        "\n",
        "menu_costs = {\n",
        "\t'fettuccine bolognese': 12.50,\n",
        "\t'gnocchi gorgonzola': 11.25,\n",
        "\t'chicken parmigiano': 11.75,\n",
        "\t'butternut squash risotto': 6.33,\n",
        "\t'spaghetti carbonara': 12.90,\n",
        "\t'pizza margherita': 14.00,\n",
        "\t'chicken marsala': 11.75\n",
        "}\n",
        "\n",
        "\n",
        "###--- Problem: find if price-cost > $1.\n",
        "###--- \t\t\t\t\tif no, update price to: cost + $1 = price.\n",
        "###--- \t\t\t\t\tthen create dict of items with updated price.\n",
        "\n",
        "price_increases = {}\n",
        "\n",
        "###--- stage 01: find difference in price and cost ---###\n",
        "for item in menu_prices:\n",
        "\tif menu_prices[item] - menu_costs[item] < 1:\n",
        "\t\tprice_increases[item] = menu_costs[item] + 1\n",
        "\t\tmenu_prices[item] = price_increases[item]\n",
        "print(price_increases)\n",
        "# print(menu_prices)\n",
        "\n"
      ],
      "execution_count": 30,
      "outputs": [
        {
          "output_type": "stream",
          "text": [
            "{'gnocchi gorgonzola': 12.25, 'spaghetti carbonara': 13.9, 'pizza margherita': 15.0}\n",
            "{'fettuccine bolognese': 14.99, 'gnocchi gorgonzola': 12.25, 'chicken parmigiano': 13.99, 'butternut squash risotto': 9.99, 'spaghetti carbonara': 13.9, 'pizza margherita': 15.0, 'chicken marsala': 13.99}\n"
          ],
          "name": "stdout"
        }
      ]
    },
    {
      "cell_type": "markdown",
      "metadata": {
        "id": "8B8auy6xhGJU",
        "colab_type": "text"
      },
      "source": [
        "## CONTROL_FLOW"
      ]
    },
    {
      "cell_type": "markdown",
      "metadata": {
        "id": "u2Ifjhjm_MPA",
        "colab_type": "text"
      },
      "source": [
        "### P1.PY"
      ]
    },
    {
      "cell_type": "code",
      "metadata": {
        "id": "r9UOMIwxhGJW",
        "colab_type": "code",
        "colab": {
          "base_uri": "https://localhost:8080/",
          "height": 35
        },
        "outputId": "bfba1f9c-2f4d-41e1-81e5-db4b5245c16f"
      },
      "source": [
        "\"\"\"\n",
        "Control Flow - I\n",
        "\"\"\"\n",
        "\n",
        "# Print the numbers in the range (5:12) until you find a factor of 4. \n",
        "# If the range the user enters contains no factors of 4, \n",
        "# print \"There are no factors of 4 in this interval.\"\n",
        "# HINT: for the range 5,12 there will likely be multiples of 4 present - \n",
        "# to assert the final requirement, try changing range boundaries\n",
        "\n",
        "r = range(5, 12)\n",
        "found = False\n",
        "for num in r:\n",
        "  if num % 4 == 0:\n",
        "    # print(num)\n",
        "    found = True\n",
        "    break\n",
        "if not found:\n",
        "  print(f'There are no factors of 4 in this range')\n",
        "\n"
      ],
      "execution_count": 37,
      "outputs": [
        {
          "output_type": "stream",
          "text": [
            "8\n"
          ],
          "name": "stdout"
        }
      ]
    },
    {
      "cell_type": "markdown",
      "metadata": {
        "id": "Ry2DQDJghGJb",
        "colab_type": "text"
      },
      "source": [
        "\n",
        "\n",
        "### P2.PY\n",
        "\n",
        "\n"
      ]
    },
    {
      "cell_type": "code",
      "metadata": {
        "id": "tWEuprQmhGJd",
        "colab_type": "code",
        "colab": {
          "base_uri": "https://localhost:8080/",
          "height": 108
        },
        "outputId": "4eb6e995-e0ac-481e-af04-b39fa0af5944"
      },
      "source": [
        "\"\"\"\n",
        "Control Flow II\n",
        "\"\"\"\n",
        "\n",
        "# Write a Python program that prints all the numbers \n",
        "# from 0 to 6 except 3 and 6. Note : Use 'continue' statement. \n",
        "\n",
        "r = range(0,7)      # could just make the range to 6 since it would be excluded:\n",
        "for num in r:\n",
        "  if num == 3 or num == 6:\n",
        "    continue\n",
        "  else:\n",
        "    print(num)\n",
        "\n"
      ],
      "execution_count": 38,
      "outputs": [
        {
          "output_type": "stream",
          "text": [
            "0\n",
            "1\n",
            "2\n",
            "4\n",
            "5\n"
          ],
          "name": "stdout"
        }
      ]
    },
    {
      "cell_type": "markdown",
      "metadata": {
        "id": "1oXTb2ayhGJi",
        "colab_type": "text"
      },
      "source": [
        "\n",
        "\n",
        "## SHAPES"
      ]
    },
    {
      "cell_type": "markdown",
      "metadata": {
        "id": "sHDrtOIn_F2F",
        "colab_type": "text"
      },
      "source": [
        "### P1.PY\n"
      ]
    },
    {
      "cell_type": "code",
      "metadata": {
        "id": "XaIy4A_ghGJj",
        "colab_type": "code",
        "colab": {
          "base_uri": "https://localhost:8080/",
          "height": 126
        },
        "outputId": "515f9234-007f-4700-e8fb-749be310acf7"
      },
      "source": [
        "\"\"\"\n",
        "Build a Triangle\n",
        "\"\"\"\n",
        "\n",
        "# Use a while loop to print a 5-level triangle of stars that looks like this:\n",
        "\n",
        "\"\"\"\n",
        "*\n",
        "**\n",
        "***\n",
        "****\n",
        "*****\n",
        "\"\"\"\n",
        "\n",
        "base = 5\n",
        "i = 0\n",
        "while i <= base:\n",
        "  i += 1\n",
        "  print(f'{\"*\" * i}')\n"
      ],
      "execution_count": 5,
      "outputs": [
        {
          "output_type": "stream",
          "text": [
            "*\n",
            "**\n",
            "***\n",
            "****\n",
            "*****\n",
            "******\n"
          ],
          "name": "stdout"
        }
      ]
    },
    {
      "cell_type": "markdown",
      "metadata": {
        "id": "V0c0s7uGhGJn",
        "colab_type": "text"
      },
      "source": [
        "\n",
        "\n",
        "### P2.PY\n",
        "\n",
        "\n"
      ]
    },
    {
      "cell_type": "code",
      "metadata": {
        "id": "I6ORnGezhGJq",
        "colab_type": "code",
        "colab": {
          "base_uri": "https://localhost:8080/",
          "height": 108
        },
        "outputId": "0b2c25a2-d0a5-4981-c413-09287d6b972d"
      },
      "source": [
        "\"\"\"\n",
        "Build a Pyramid\n",
        "\"\"\"\n",
        "\n",
        "# Use a while loop to print a pyramid of stars that looks like this:\n",
        "\n",
        "\"\"\"\n",
        "    *\n",
        "   ***\n",
        "  *****\n",
        " *******\n",
        "*********\n",
        "\"\"\"\n",
        "stars = 1\n",
        "spaces = 4\n",
        "\n",
        "row = 1\n",
        "\n",
        "\n",
        "while row < 6:\n",
        "  row += 1\n",
        "  print(f'{\" \"*spaces}{\"*\"*stars}')\n",
        "  spaces -= 1\n",
        "  stars += 2\n"
      ],
      "execution_count": 13,
      "outputs": [
        {
          "output_type": "stream",
          "text": [
            "    *\n",
            "   ***\n",
            "  *****\n",
            " *******\n",
            "*********\n"
          ],
          "name": "stdout"
        }
      ]
    },
    {
      "cell_type": "markdown",
      "metadata": {
        "id": "39SbNtiGyVqg",
        "colab_type": "text"
      },
      "source": [
        "pyramid table:\n",
        "\n",
        "| r  |  num of *  | num of leading spaces |\n",
        "|----|------------|-----------------------|\n",
        "| 1  |     1      |         4             |\n",
        "| 2  |     3      |         3             |\n",
        "| 3  |     5      |         2             |\n",
        "| 4  |     7      |         1             |\n",
        "| 5  |     9      |         0             |\n",
        "\n"
      ]
    },
    {
      "cell_type": "markdown",
      "metadata": {
        "id": "l61GM5lShGJu",
        "colab_type": "text"
      },
      "source": [
        "\n",
        "\n",
        "### P3.PY\n",
        "\n",
        "\n"
      ]
    },
    {
      "cell_type": "code",
      "metadata": {
        "id": "lL37Kt_YhGJu",
        "colab_type": "code",
        "colab": {
          "base_uri": "https://localhost:8080/",
          "height": 199
        },
        "outputId": "43f1394b-f432-4868-da4c-25e172b8c8e4"
      },
      "source": [
        "\"\"\"\n",
        "Build a Diamond\n",
        "\"\"\"\n",
        "\n",
        "# Use a while loop to print a diamond of stars that looks like this:\n",
        "\n",
        "\"\"\"\n",
        "    *\n",
        "   ***\n",
        "  *****\n",
        " *******\n",
        "*********\n",
        " *******\n",
        "  *****\n",
        "   ***\n",
        "    *\n",
        "\"\"\"\n",
        "\n",
        "spaces = 4\n",
        "stars = 1\n",
        "row = 0\n",
        "\n",
        "while row < 10:\n",
        "  row += 1\n",
        "  print(f'{\" \"*spaces}{\"*\"*stars}')\n",
        "  # print(f'{\" \"*spaces}{\"*\"*stars}')\n",
        "  if row < 5:\n",
        "    spaces -= 1\n",
        "    stars += 2\n",
        "  else:\n",
        "    spaces += 1\n",
        "    stars -= 2"
      ],
      "execution_count": 24,
      "outputs": [
        {
          "output_type": "stream",
          "text": [
            "    *\n",
            "   ***\n",
            "  *****\n",
            " *******\n",
            "*********\n",
            " *******\n",
            "  *****\n",
            "   ***\n",
            "    *\n",
            "     \n"
          ],
          "name": "stdout"
        }
      ]
    },
    {
      "cell_type": "markdown",
      "metadata": {
        "id": "tuAwDPKMhGJz",
        "colab_type": "text"
      },
      "source": [
        "## LOOP_CHALLENGES"
      ]
    },
    {
      "cell_type": "markdown",
      "metadata": {
        "id": "tmbMErPI_mq_",
        "colab_type": "text"
      },
      "source": [
        "### P1.PY"
      ]
    },
    {
      "cell_type": "code",
      "metadata": {
        "id": "bSOxkegXhGJ1",
        "colab_type": "code",
        "colab": {
          "base_uri": "https://localhost:8080/",
          "height": 53
        },
        "outputId": "38373f0c-6d2f-42e3-ba8a-ebd8e6fe0e00"
      },
      "source": [
        "\"\"\"\n",
        "Valid Passwords\n",
        "\"\"\"\n",
        "\n",
        "# Check the validity of password input by users \n",
        "# based on the below security requirements: \n",
        "# At least 1 letter between [a-z] and 1 letter between [A-Z].\n",
        "\"\"\"\n",
        "# At least 1 letter between [a-z] and 1 letter between [A-Z].\n",
        "#At least 1 number between [0-9].\n",
        "At least 1 character from [$#@].\n",
        "Minimum length 6 characters.\n",
        "Maximum length 16 characters.\n",
        "\"\"\"\n",
        "\n",
        "\n",
        "# Hint: Look up the documentation for the \"re\" library and it's \".search()\" method.\n",
        "import re\n",
        "\n",
        "p = input(\"Input your password: \")\n",
        "# p = 'P4$$w0rD'\n",
        "\n",
        "# if re.search('([A-Z][a-z])',p):\n",
        "if len(p) >= 6 and len(p) <= 16:\n",
        "  if re.search('[A-Z]',p) and re.search('[a-z]',p) and re.search('[0-9]',p) and re.search('[$#@]',p):\n",
        "    print(\"valid\")\n",
        "else:\n",
        "  print(\"invalid\")\n"
      ],
      "execution_count": 65,
      "outputs": [
        {
          "output_type": "stream",
          "text": [
            "Input your password: p4ssW@rd\n",
            "valid\n"
          ],
          "name": "stdout"
        }
      ]
    },
    {
      "cell_type": "markdown",
      "metadata": {
        "id": "65BEmxFBhGJ4",
        "colab_type": "text"
      },
      "source": [
        "\n",
        "\n",
        "### P2.PY\n",
        "\n",
        "\n"
      ]
    },
    {
      "cell_type": "code",
      "metadata": {
        "id": "F5nUKdfVhGJ6",
        "colab_type": "code",
        "colab": {}
      },
      "source": [
        "\"\"\"\n",
        "Prime Numbers I\n",
        "\"\"\"\n",
        "\n",
        "# Check if a number input by a user is prime or not. If it is NOT a prime number, print out that it is not a prime number. If it IS a prime number, print out that it is a prime number and give an example of two of its factors. Hint: Prime numbers must be greater than 1.\n",
        "\n",
        "# Example of output for a NON-prime:\n",
        "# 12 is not a prime number\n",
        "# For example, 2 x 6 = 12\n",
        "\n",
        "\n",
        "\n",
        "# user_input = input(\"Enter a number to check if it's prime: \")\n",
        "\n"
      ],
      "execution_count": 0,
      "outputs": []
    },
    {
      "cell_type": "markdown",
      "metadata": {
        "id": "5U2wM7oIhGJ-",
        "colab_type": "text"
      },
      "source": [
        "\n"
      ]
    }
  ]
}