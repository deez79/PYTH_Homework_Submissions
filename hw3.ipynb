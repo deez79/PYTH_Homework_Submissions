{
  "nbformat": 4,
  "nbformat_minor": 0,
  "metadata": {
    "colab": {
      "name": "hw3.ipynb",
      "provenance": [],
      "collapsed_sections": [
        "_7VmQULRjFyy",
        "XbCPoqjthGIh",
        "Yf9UYzNQhGIo",
        "Tcx6AvDJhGIx",
        "HMIx2JrXhGI4",
        "9_Uh9F96hGJH",
        "YS4_FvVAhGJO",
        "u2Ifjhjm_MPA",
        "Ry2DQDJghGJb",
        "sHDrtOIn_F2F",
        "V0c0s7uGhGJn",
        "l61GM5lShGJu",
        "tmbMErPI_mq_",
        "65BEmxFBhGJ4"
      ],
      "include_colab_link": true
    },
    "kernelspec": {
      "name": "python3",
      "display_name": "Python 3"
    }
  },
  "cells": [
    {
      "cell_type": "markdown",
      "metadata": {
        "id": "view-in-github",
        "colab_type": "text"
      },
      "source": [
        "<a href=\"https://colab.research.google.com/github/deez79/PYTH_Homework_Submissions/blob/master/hw3.ipynb\" target=\"_parent\"><img src=\"https://colab.research.google.com/assets/colab-badge.svg\" alt=\"Open In Colab\"/></a>"
      ]
    },
    {
      "cell_type": "markdown",
      "metadata": {
        "id": "jIv_sbLuhGIL",
        "colab_type": "text"
      },
      "source": [
        "#  LOOPS\n",
        "\n",
        "## LOOP_BASICS"
      ]
    },
    {
      "cell_type": "markdown",
      "metadata": {
        "id": "_7VmQULRjFyy",
        "colab_type": "text"
      },
      "source": [
        "### P1.PY"
      ]
    },
    {
      "cell_type": "code",
      "metadata": {
        "id": "pMCrYm1hhGIO",
        "colab_type": "code",
        "outputId": "c0feff07-6364-459b-bc6c-3b320d75668b",
        "colab": {
          "base_uri": "https://localhost:8080/",
          "height": 34
        }
      },
      "source": [
        "\"\"\"\n",
        "Odds & Evens\n",
        "\"\"\"\n",
        "\n",
        "# Use a loop to make a list of all odd numbers between 1 and 10 and another list with all the evens. When done, print the lists.\n",
        "r = range(1, 11)\n",
        "\n",
        "odds = []\n",
        "evens = []\n",
        "\n",
        "for num in r:\n",
        "  if num % 2 == 0:\n",
        "    evens.append(num)\n",
        "  else:\n",
        "    odds.append(num)\n",
        "\n",
        "# odds = \n",
        "\n",
        "# evens = \n",
        "\n",
        "print(odds, evens)\n"
      ],
      "execution_count": 0,
      "outputs": [
        {
          "output_type": "stream",
          "text": [
            "[1, 3, 5, 7, 9] [2, 4, 6, 8, 10]\n"
          ],
          "name": "stdout"
        }
      ]
    },
    {
      "cell_type": "markdown",
      "metadata": {
        "id": "dF2YQBhShGIX",
        "colab_type": "text"
      },
      "source": [
        "\n",
        "\n",
        "### P2.PY\n",
        "\n",
        "\n"
      ]
    },
    {
      "cell_type": "code",
      "metadata": {
        "id": "id4F7umShGIa",
        "colab_type": "code",
        "outputId": "59d404a6-12b8-49a9-a269-68023603ba0c",
        "colab": {
          "base_uri": "https://localhost:8080/",
          "height": 34
        }
      },
      "source": [
        "\"\"\"\n",
        "Lists with Duplicates\n",
        "\"\"\"\n",
        "\n",
        "# First, print list a below as it is now.\n",
        "\n",
        "a = [2, 4, 10, 20, 5, 2, 20, 4]\n",
        "b = [13, 2, 25, 20, 4, 8]\n",
        "\n",
        "print(a)\n",
        "\n",
        "# Using a loop, remove the duplicate items from list a and print out the updated list.\n",
        "\n",
        "for num in a:\n",
        "  pass\n",
        "\n",
        "# Using a loop, merge list b into list a without adding any duplicates."
      ],
      "execution_count": 1,
      "outputs": [
        {
          "output_type": "stream",
          "text": [
            "[2, 4, 10, 20, 5, 2, 20, 4]\n"
          ],
          "name": "stdout"
        }
      ]
    },
    {
      "cell_type": "markdown",
      "metadata": {
        "id": "XbCPoqjthGIh",
        "colab_type": "text"
      },
      "source": [
        "\n",
        "\n",
        "### P3.PY\n",
        "\n",
        "\n"
      ]
    },
    {
      "cell_type": "code",
      "metadata": {
        "id": "jSJA1UKehGIi",
        "colab_type": "code",
        "colab": {
          "base_uri": "https://localhost:8080/",
          "height": 34
        },
        "outputId": "8fd0b62c-efa2-4efa-9446-09c3e5e90f03"
      },
      "source": [
        "\"\"\"\n",
        "Temperature Conversions\n",
        "\"\"\"\n",
        "\n",
        "# You're studying climate change, and over the last 3 years, \n",
        "# you've recorded the temperature at noon every day in degrees Fahrenheit (F). \n",
        "# The var sampleF holds a portion of those recordings. \n",
        "\n",
        "sampleF = [71.6, 82.4, 91.4, 107.6, 125.6]\n",
        "\n",
        "# Convert each item in this list into degrees Celsius and \n",
        "# add the results to a dict called sample_temps so that \n",
        "# the conversion of each day's temperature is easily accessible. \n",
        "# For reference, the conversion equation between F and C is:\n",
        "# Celsius = (Fahrenheit - 32) * 5.0/9.0\n",
        "sample_temps = {}\n",
        "for i in sampleF:\n",
        "  sample_temps[i] = (i -32) * (5.0/9.0)\n",
        "\n",
        "\n",
        "# sample_temps = \n",
        "print(sample_temps)\n"
      ],
      "execution_count": 2,
      "outputs": [
        {
          "output_type": "stream",
          "text": [
            "{71.6: 21.999999999999996, 82.4: 28.000000000000004, 91.4: 33.00000000000001, 107.6: 42.0, 125.6: 52.0}\n"
          ],
          "name": "stdout"
        }
      ]
    },
    {
      "cell_type": "markdown",
      "metadata": {
        "id": "Yf9UYzNQhGIo",
        "colab_type": "text"
      },
      "source": [
        "\n",
        "\n",
        "### P4.PY\n",
        "\n",
        "\n"
      ]
    },
    {
      "cell_type": "code",
      "metadata": {
        "id": "rhz7O-BbhGIq",
        "colab_type": "code",
        "colab": {
          "base_uri": "https://localhost:8080/",
          "height": 51
        },
        "outputId": "359c56fa-54d6-40e2-c526-cd636355f4aa"
      },
      "source": [
        "\"\"\"\n",
        "Factorial\n",
        "\"\"\"\n",
        "\n",
        "# Find the factorial of a number input by a user. Then print out the factors within the factorial and then print out the actual numeric answer. Hint: The formula for a factorial is n! = (n-1)*n.\n",
        "\n",
        "\n",
        "# Example output:\n",
        "\"\"\"\n",
        "8! = 8*7*6*5*4*3*2*1\n",
        "8! = 40320\n",
        "\"\"\"\n",
        "\n",
        "user_input = input('Enter a number to find its factorial: ')\n",
        "\n",
        "factorial = int(user_input)\n",
        "# factorial = 8\n",
        "\n",
        "r = range(1, factorial + 1)\n",
        "sum_product = 1\n",
        "\n",
        "for i in r:\n",
        " sum_product = sum_product * i\n",
        "\n",
        "print(sum_product) "
      ],
      "execution_count": 7,
      "outputs": [
        {
          "output_type": "stream",
          "text": [
            "Enter a number to find its factorial: 8\n",
            "40320\n"
          ],
          "name": "stdout"
        }
      ]
    },
    {
      "cell_type": "markdown",
      "metadata": {
        "id": "Tcx6AvDJhGIx",
        "colab_type": "text"
      },
      "source": [
        "\n",
        "\n",
        "### P5.PY\n",
        "\n",
        "\n"
      ]
    },
    {
      "cell_type": "code",
      "metadata": {
        "id": "93KGqNONhGIz",
        "colab_type": "code",
        "colab": {
          "base_uri": "https://localhost:8080/",
          "height": 51
        },
        "outputId": "e50a429c-e3c3-42fd-be70-498cf2243a80"
      },
      "source": [
        "\"\"\"\n",
        "Factors\n",
        "\"\"\"\n",
        "\n",
        "# Find all factors of a number that a user inputs and print out 'The factors of <the_user_input_number> are: '.\n",
        "\n",
        "user_input = input('Enter a number to find its factors: ')\n",
        "\n",
        "number = int(user_input)\n",
        "# number = 12\n",
        "\n",
        "r = range(1, int((number**0.5))+1)\n",
        "factor = []\n",
        "\n",
        "for i in r:\n",
        "  if number % i == 0:\n",
        "    factor.append(i)\n",
        "    factor.append(int(number/i))\n",
        "\n",
        "print(factor)\n",
        "# print(factor.sort(reverse=False))\n"
      ],
      "execution_count": 18,
      "outputs": [
        {
          "output_type": "stream",
          "text": [
            "Enter a number to find its factors: 12\n",
            "[1, 12, 2, 6, 3, 4]\n"
          ],
          "name": "stdout"
        }
      ]
    },
    {
      "cell_type": "markdown",
      "metadata": {
        "id": "HMIx2JrXhGI4",
        "colab_type": "text"
      },
      "source": [
        "\n",
        "\n",
        "### P6.PY\n",
        "\n",
        "\n"
      ]
    },
    {
      "cell_type": "code",
      "metadata": {
        "id": "vFhdmDLWhGI6",
        "colab_type": "code",
        "colab": {
          "base_uri": "https://localhost:8080/",
          "height": 51
        },
        "outputId": "f23c6ef3-b784-4865-e369-36b1428b4a1e"
      },
      "source": [
        "\"\"\"\n",
        "GCD\n",
        "\"\"\"\n",
        "\n",
        "# Find the greatest common denominator (GCD) of two number input by a user. Then print out 'The GCD of <first number> and <second number> is <your result>.'\n",
        "\n",
        "\n",
        "###--- User Input ---###\n",
        "# print('Enter two numbers to find their greatest common denominator.')\n",
        "\n",
        "# user_input1 = input('First number: ')\n",
        "# user_input2 = input('Second number: ')\n",
        "\n",
        "# n1 = int(user_input1)\n",
        "# n2 = int(user_input2)\n",
        "\n",
        "n1 = 6\n",
        "n2 = 12\n",
        "\n",
        "###--- Logic to find smaller user input ---###\n",
        "\n",
        "if n1 > n2:\n",
        "  l = n1\n",
        "  s = n2\n",
        "else:\n",
        "  l = n2\n",
        "  s = n1\n",
        "\n",
        "###---  Attempt 1 ---###\n",
        "##--- Find factors of smaller one ---##\n",
        "\n",
        "factor = []\n",
        "shared = []\n",
        "\n",
        "r = range(1, int(s**0.5)+1)\n",
        "\n",
        "for i in r:\n",
        "  if s % i == 0:\n",
        "    factor.append(i)\n",
        "    factor.append(int(s/i))\n",
        "# print(factor)\n",
        "\n",
        "##--- Find Shared factors by dividing Larger number by factors of smaller ---##\n",
        "for i in factor:\n",
        "  if l % i == 0:\n",
        "    shared.append(i)\n",
        "# print(shared)\n",
        "\n",
        "print(max(shared))\n",
        "\n",
        "\n",
        "###--- Attempt 2 ---###\n",
        "\n",
        "factor2 = []\n",
        "\n",
        "for i in r:\n",
        "  if s % i == 0 and l % i == 0:\n",
        "    factor2.append(i)\n",
        "    factor2.append(int(s/i))\n",
        "\n",
        "print(max(factor2))\n"
      ],
      "execution_count": 30,
      "outputs": [
        {
          "output_type": "stream",
          "text": [
            "6\n",
            "6\n"
          ],
          "name": "stdout"
        }
      ]
    },
    {
      "cell_type": "markdown",
      "metadata": {
        "id": "NMEiNvajhGI_",
        "colab_type": "text"
      },
      "source": [
        "## DICT_LOOPS"
      ]
    },
    {
      "cell_type": "markdown",
      "metadata": {
        "id": "UQnHMrND_WWe",
        "colab_type": "text"
      },
      "source": [
        "### P1.PY"
      ]
    },
    {
      "cell_type": "code",
      "metadata": {
        "id": "29W1iXPBhGJB",
        "colab_type": "code",
        "colab": {}
      },
      "source": [
        "\"\"\"\n",
        "Contacts\n",
        "\"\"\"\n",
        "\n",
        "# You went to a conference and got people to sign up for text updates from your startup. Go through this dict to make the phone numbers readable to a computer. \n",
        "\n",
        "# Hint: It can't include any non-numeric\n",
        "# characters.\n",
        "\n",
        "contacts = {\n",
        "\t'Jamie': '1.192.168.0143',\n",
        "\t'Kartik': '1.837.209.1121',\n",
        "\t'Grant': '1.826.386.1758',\n",
        "\t'Brandon': '1.935.297.9447',\n",
        "\t'Monique': '1.702.716.5353',\n",
        "\t'Sohom': '1.576.619.6100',\n",
        "}\n"
      ],
      "execution_count": 0,
      "outputs": []
    },
    {
      "cell_type": "markdown",
      "metadata": {
        "id": "9_Uh9F96hGJH",
        "colab_type": "text"
      },
      "source": [
        "\n",
        "\n",
        "### P2.PY\n",
        "\n",
        "\n"
      ]
    },
    {
      "cell_type": "code",
      "metadata": {
        "id": "HGKk97jyhGJI",
        "colab_type": "code",
        "colab": {}
      },
      "source": [
        "\"\"\"\n",
        "Grades\n",
        "\"\"\"\n",
        "# Here's a dict containing students' grades from the semester's assignments.\n",
        "\n",
        "students = {\n",
        "  'Ashton': [86, 45, 98, 100],\n",
        "  'Sierra': [100, 100, 100, 100],\n",
        "  'Zach': [38, 49, 90, 87],\n",
        "  'Manuel': [98, 92, 86, 100],\n",
        "  'Felicia': [94, 87, 89, 95],\n",
        "  'Ankur': [75, 77, 77, 85],\n",
        "  'Ananya': [98, 94, 87, 92],\n",
        "  'Nick': [79, 84, 89, 90],\n",
        "  'Olivia': [83, 91, 69, 85],\n",
        "  'Molly': [83, 74, 72, 90]\n",
        "}\n",
        "\n",
        "# p 1.1) Create a dict called num_grades to store each student's average numerical grade for the semester.\n",
        "\n",
        "# num_grades = \n",
        "\n",
        "\n",
        "\n",
        "# p 1.2) Create a dict called letter_grades to store each student's final letter grade for the semester. Use A, B, C, D, and F as grades per the standard grading scale.\n",
        "\n",
        "# letter_grades = \n",
        "\n",
        "\n",
        "\n",
        "# p 1.3) Create a list of honor roll students (i.e. students who got A's).\n",
        "\n",
        "# honor_roll "
      ],
      "execution_count": 0,
      "outputs": []
    },
    {
      "cell_type": "markdown",
      "metadata": {
        "id": "YS4_FvVAhGJO",
        "colab_type": "text"
      },
      "source": [
        "\n",
        "\n",
        "### P3.PY\n",
        "\n",
        "\n"
      ]
    },
    {
      "cell_type": "code",
      "metadata": {
        "id": "jIHqffQJhGJP",
        "colab_type": "code",
        "colab": {}
      },
      "source": [
        "\"\"\"\n",
        "Price Inventory\n",
        "\"\"\"\n",
        "\n",
        "# Imagine you're the owner of an Italian restaurant. You're evaluating your pricing to make sure it's up to date with the latest costs of making each menu item (see the menu prices and costs dicts below). Evaluate whether each item's price returns a profit margin of at least $1.00. If it doesn't, update the menu_prices dict with a new price that gives the item a $1.00 profit margin. Then print out the items which you've repriced in a new dict called price_increases.\n",
        "\n",
        "menu_prices = {\n",
        "\t'fettuccine bolognese': 14.99,\n",
        "\t'gnocchi gorgonzola': 10.99,\n",
        "\t'chicken parmigiano': 13.99,\n",
        "\t'butternut squash risotto': 9.99,\n",
        "\t'spaghetti carbonara': 12.99,\n",
        "\t'pizza margherita': 12.99,\n",
        "\t'chicken marsala': 13.99\n",
        "}\n",
        "\n",
        "menu_costs = {\n",
        "\t'fettuccine bolognese': 12.50,\n",
        "\t'gnocchi gorgonzola': 11.25,\n",
        "\t'chicken parmigiano': 11.75,\n",
        "\t'butternut squash risotto': 6.33,\n",
        "\t'spaghetti carbonara': 12.90,\n",
        "\t'pizza margherita': 14.00,\n",
        "\t'chicken marsala': 11.75\n",
        "}\n",
        "\n",
        "# price_increases = \n",
        "\n"
      ],
      "execution_count": 0,
      "outputs": []
    },
    {
      "cell_type": "markdown",
      "metadata": {
        "id": "8B8auy6xhGJU",
        "colab_type": "text"
      },
      "source": [
        "## CONTROL_FLOW"
      ]
    },
    {
      "cell_type": "markdown",
      "metadata": {
        "id": "u2Ifjhjm_MPA",
        "colab_type": "text"
      },
      "source": [
        "### P1.PY"
      ]
    },
    {
      "cell_type": "code",
      "metadata": {
        "id": "r9UOMIwxhGJW",
        "colab_type": "code",
        "colab": {}
      },
      "source": [
        "\"\"\"\n",
        "Control Flow - I\n",
        "\"\"\"\n",
        "\n",
        "# Print the numbers in the range (5:12) until you find a factor of 4. If the range the user enters contains no factors of 4, print \"There are no factors of 4 in this interval.\"\n",
        "# HINT: for the range 5,12 there will likely be multiples of 4 present - to assert the final requirement, try changing range boundaries\n",
        "\n",
        "\n"
      ],
      "execution_count": 0,
      "outputs": []
    },
    {
      "cell_type": "markdown",
      "metadata": {
        "id": "Ry2DQDJghGJb",
        "colab_type": "text"
      },
      "source": [
        "\n",
        "\n",
        "### P2.PY\n",
        "\n",
        "\n"
      ]
    },
    {
      "cell_type": "code",
      "metadata": {
        "id": "tWEuprQmhGJd",
        "colab_type": "code",
        "colab": {}
      },
      "source": [
        "\"\"\"\n",
        "Control Flow II\n",
        "\"\"\"\n",
        "\n",
        "# Write a Python program that prints all the numbers from 0 to 6 except 3 and 6. Note : Use 'continue' statement. \n",
        "\n"
      ],
      "execution_count": 0,
      "outputs": []
    },
    {
      "cell_type": "markdown",
      "metadata": {
        "id": "1oXTb2ayhGJi",
        "colab_type": "text"
      },
      "source": [
        "\n",
        "\n",
        "## SHAPES"
      ]
    },
    {
      "cell_type": "markdown",
      "metadata": {
        "id": "sHDrtOIn_F2F",
        "colab_type": "text"
      },
      "source": [
        "### P1.PY\n"
      ]
    },
    {
      "cell_type": "code",
      "metadata": {
        "id": "XaIy4A_ghGJj",
        "colab_type": "code",
        "colab": {}
      },
      "source": [
        "\"\"\"\n",
        "Build a Triangle\n",
        "\"\"\"\n",
        "\n",
        "# Use a while loop to print a 5-level triangle of stars that looks like this:\n",
        "\n",
        "\"\"\"\n",
        "*\n",
        "**\n",
        "***\n",
        "****\n",
        "*****\n",
        "\"\"\"\n"
      ],
      "execution_count": 0,
      "outputs": []
    },
    {
      "cell_type": "markdown",
      "metadata": {
        "id": "V0c0s7uGhGJn",
        "colab_type": "text"
      },
      "source": [
        "\n",
        "\n",
        "### P2.PY\n",
        "\n",
        "\n"
      ]
    },
    {
      "cell_type": "code",
      "metadata": {
        "id": "I6ORnGezhGJq",
        "colab_type": "code",
        "colab": {}
      },
      "source": [
        "\"\"\"\n",
        "Build a Pyramid\n",
        "\"\"\"\n",
        "\n",
        "# Use a while loop to print a pyramid of stars that looks like this:\n",
        "\n",
        "\"\"\"\n",
        "    *\n",
        "   ***\n",
        "  *****\n",
        " *******\n",
        "*********\n",
        "\"\"\"\n",
        "\n"
      ],
      "execution_count": 0,
      "outputs": []
    },
    {
      "cell_type": "markdown",
      "metadata": {
        "id": "l61GM5lShGJu",
        "colab_type": "text"
      },
      "source": [
        "\n",
        "\n",
        "### P3.PY\n",
        "\n",
        "\n"
      ]
    },
    {
      "cell_type": "code",
      "metadata": {
        "id": "lL37Kt_YhGJu",
        "colab_type": "code",
        "colab": {}
      },
      "source": [
        "\"\"\"\n",
        "Build a Diamond\n",
        "\"\"\"\n",
        "\n",
        "# Use a while loop to print a diamond of stars that looks like this:\n",
        "\n",
        "\"\"\"\n",
        "    *\n",
        "   ***\n",
        "  *****\n",
        " *******\n",
        "*********\n",
        " *******\n",
        "  *****\n",
        "   ***\n",
        "    *\n",
        "\"\"\"\n"
      ],
      "execution_count": 0,
      "outputs": []
    },
    {
      "cell_type": "markdown",
      "metadata": {
        "id": "tuAwDPKMhGJz",
        "colab_type": "text"
      },
      "source": [
        "## LOOP_CHALLENGES"
      ]
    },
    {
      "cell_type": "markdown",
      "metadata": {
        "id": "tmbMErPI_mq_",
        "colab_type": "text"
      },
      "source": [
        "### P1.PY"
      ]
    },
    {
      "cell_type": "code",
      "metadata": {
        "id": "bSOxkegXhGJ1",
        "colab_type": "code",
        "colab": {}
      },
      "source": [
        "\"\"\"\n",
        "Valid Passwords\n",
        "\"\"\"\n",
        "\n",
        "# Check the validity of password input by users based on the below security requirements: At least 1 letter between [a-z] and 1 letter between [A-Z].\n",
        "\"\"\"\n",
        "# At least 1 letter between [a-z] and 1 letter between [A-Z].\n",
        "#At least 1 number between [0-9].\n",
        "At least 1 character from [$#@].\n",
        "Minimum length 6 characters.\n",
        "Maximum length 16 characters.\n",
        "\"\"\"\n",
        "\n",
        "\n",
        "# Hint: Look up the documentation for the \"re\" library and it's \".search()\" method.\n",
        "\n",
        "# p = input(\"Input your password: \")"
      ],
      "execution_count": 0,
      "outputs": []
    },
    {
      "cell_type": "markdown",
      "metadata": {
        "id": "65BEmxFBhGJ4",
        "colab_type": "text"
      },
      "source": [
        "\n",
        "\n",
        "### P2.PY\n",
        "\n",
        "\n"
      ]
    },
    {
      "cell_type": "code",
      "metadata": {
        "id": "F5nUKdfVhGJ6",
        "colab_type": "code",
        "colab": {}
      },
      "source": [
        "\"\"\"\n",
        "Prime Numbers I\n",
        "\"\"\"\n",
        "\n",
        "# Check if a number input by a user is prime or not. If it is NOT a prime number, print out that it is not a prime number. If it IS a prime number, print out that it is a prime number and give an example of two of its factors. Hint: Prime numbers must be greater than 1.\n",
        "\n",
        "# Example of output for a NON-prime:\n",
        "# 12 is not a prime number\n",
        "# For example, 2 x 6 = 12\n",
        "\n",
        "\n",
        "\n",
        "# user_input = input(\"Enter a number to check if it's prime: \")\n",
        "\n"
      ],
      "execution_count": 0,
      "outputs": []
    },
    {
      "cell_type": "markdown",
      "metadata": {
        "id": "5U2wM7oIhGJ-",
        "colab_type": "text"
      },
      "source": [
        "\n"
      ]
    }
  ]
}